{
 "cells": [
  {
   "cell_type": "markdown",
   "metadata": {},
   "source": [
    "#14 question answer"
   ]
  },
  {
   "cell_type": "code",
   "execution_count": 1,
   "metadata": {},
   "outputs": [
    {
     "name": "stdout",
     "output_type": "stream",
     "text": [
      "Requirement already satisfied: selenium in c:\\programdata\\anaconda3\\lib\\site-packages (3.141.0)\n",
      "Requirement already satisfied: urllib3 in c:\\programdata\\anaconda3\\lib\\site-packages (from selenium) (1.24.2)\n",
      "Note: you may need to restart the kernel to use updated packages.\n"
     ]
    }
   ],
   "source": [
    "pip install selenium"
   ]
  },
  {
   "cell_type": "code",
   "execution_count": 1,
   "metadata": {},
   "outputs": [],
   "source": [
    "from selenium import webdriver\n",
    "driver=webdriver.Chrome(r'C:\\Users\\Pritesh\\.anaconda\\navigator\\scripts\\chromedriver.exe')"
   ]
  },
  {
   "cell_type": "code",
   "execution_count": 34,
   "metadata": {},
   "outputs": [],
   "source": [
    "driver.get(r'https://www.flipkart.com/search?q=+Rayban+Sunglasses&otracker=search&otracker1=search&marketplace=FLIPKART&as-show=on&as=off&p%5B%5D=facets.brand%255B%255D%3DRay-Ban')"
   ]
  },
  {
   "cell_type": "code",
   "execution_count": 35,
   "metadata": {},
   "outputs": [
    {
     "data": {
      "text/plain": [
       "'P:\\\\jay\\\\fliprobo'"
      ]
     },
     "execution_count": 35,
     "metadata": {},
     "output_type": "execute_result"
    }
   ],
   "source": [
    "import os\n",
    "os.getcwd()"
   ]
  },
  {
   "cell_type": "code",
   "execution_count": 36,
   "metadata": {},
   "outputs": [],
   "source": [
    "os.chdir(r'P:\\jay\\fliprobo')\n",
    "current_path=r'P:\\jay\\fliprobo'\n",
    "dir_name='WEB-SCRAPING WORKSHEET 2'\n",
    "path=os.path.join(current_path,dir_name)\n",
    "if not os.path.exists(path):\n",
    "    os.makedirs(path)\n"
   ]
  },
  {
   "cell_type": "code",
   "execution_count": 37,
   "metadata": {},
   "outputs": [
    {
     "data": {
      "text/plain": [
       "10"
      ]
     },
     "execution_count": 37,
     "metadata": {},
     "output_type": "execute_result"
    }
   ],
   "source": [
    "images=driver.find_elements_by_xpath(\"//img[@class='_3togXc']\")\n",
    "final_images=images[0:10]\n",
    "len(final_images)"
   ]
  },
  {
   "cell_type": "code",
   "execution_count": 38,
   "metadata": {},
   "outputs": [
    {
     "data": {
      "text/plain": [
       "10"
      ]
     },
     "execution_count": 38,
     "metadata": {},
     "output_type": "execute_result"
    }
   ],
   "source": [
    "url=[]\n",
    "i=1\n",
    "for image in final_images:\n",
    "    source=image.get_attribute('src')\n",
    "    url.append(source)\n",
    "len(url)"
   ]
  },
  {
   "cell_type": "code",
   "execution_count": 39,
   "metadata": {},
   "outputs": [],
   "source": [
    "import shutil\n",
    "import requests"
   ]
  },
  {
   "cell_type": "code",
   "execution_count": 41,
   "metadata": {},
   "outputs": [
    {
     "name": "stdout",
     "output_type": "stream",
     "text": [
      "downloading img 1 of 10\n",
      "downloading img 2 of 10\n",
      "downloading img 3 of 10\n",
      "downloading img 4 of 10\n",
      "downloading img 5 of 10\n",
      "downloading img 6 of 10\n",
      "downloading img 7 of 10\n",
      "downloading img 8 of 10\n",
      "downloading img 9 of 10\n",
      "downloading img 10 of 10\n"
     ]
    }
   ],
   "source": [
    "for index,link in enumerate(url):\n",
    "    print('downloading img {} of 10'.format(index+1))\n",
    "    response=requests.get(link)\n",
    "    with open (r'P:\\jay\\fliprobo\\WEB-SCRAPING WORKSHEET 2\\img {}.jpg'.format(index+1),'wb') as file:\n",
    "        file.write(response.content)"
   ]
  },
  {
   "cell_type": "markdown",
   "metadata": {},
   "source": [
    "#15 question answer"
   ]
  },
  {
   "cell_type": "code",
   "execution_count": 3,
   "metadata": {},
   "outputs": [],
   "source": [
    "driver.get('https://www.amazon.in/s?k=mouse&rh=p_36%3A-50000&qid=1600951547&rnid=1318502031&ref=sr_nr_p_36_5')"
   ]
  },
  {
   "cell_type": "code",
   "execution_count": 4,
   "metadata": {},
   "outputs": [
    {
     "name": "stdout",
     "output_type": "stream",
     "text": [
      "22 22\n"
     ]
    }
   ],
   "source": [
    "mouse_des=driver.find_elements_by_xpath(\"//span[@class='a-size-medium a-color-base a-text-normal']\")\n",
    "mouse_price=driver.find_elements_by_xpath(\"//span[@class='a-price-whole']\")\n",
    "print(len(mouse_des),\n",
    "      len(mouse_price))"
   ]
  },
  {
   "cell_type": "code",
   "execution_count": 5,
   "metadata": {},
   "outputs": [],
   "source": [
    "amazone_mouse_data_dic={}\n",
    "amazone_mouse_data_dic['mouse_name']=[]\n",
    "amazone_mouse_data_dic['mouse_price']=[]"
   ]
  },
  {
   "cell_type": "code",
   "execution_count": 6,
   "metadata": {},
   "outputs": [
    {
     "data": {
      "text/plain": [
       "19"
      ]
     },
     "execution_count": 6,
     "metadata": {},
     "output_type": "execute_result"
    }
   ],
   "source": [
    "i=0\n",
    "for data in mouse_des:\n",
    "    i=i+1\n",
    "    if i not in (1,19,20):\n",
    "        amazone_mouse_data_dic['mouse_name'].append(data.text)\n",
    "    else:\n",
    "        continue\n",
    "len(amazone_mouse_data_dic['mouse_name']) "
   ]
  },
  {
   "cell_type": "code",
   "execution_count": 7,
   "metadata": {},
   "outputs": [
    {
     "data": {
      "text/plain": [
       "19"
      ]
     },
     "execution_count": 7,
     "metadata": {},
     "output_type": "execute_result"
    }
   ],
   "source": [
    "i=0\n",
    "for data in mouse_price:\n",
    "    i=i+1\n",
    "    if i not in (1,19,20):\n",
    "        amazone_mouse_data_dic['mouse_price'].append(data.text)\n",
    "    else:\n",
    "        continue\n",
    "len(amazone_mouse_data_dic['mouse_price']) "
   ]
  },
  {
   "cell_type": "code",
   "execution_count": 8,
   "metadata": {},
   "outputs": [],
   "source": [
    "page=2\n",
    "page2=driver.find_element_by_xpath(\"//li[@class='a-last']\").click()"
   ]
  },
  {
   "cell_type": "code",
   "execution_count": 9,
   "metadata": {},
   "outputs": [],
   "source": [
    "mouse_des2=driver.find_elements_by_xpath(\"//span[@class='a-size-medium a-color-base a-text-normal']\")\n",
    "mouse_price2=driver.find_elements_by_xpath(\"//span[@class='a-price-whole']\")\n",
    "final_mouse_des2=mouse_des2[0]\n",
    "final_mouse_price2=mouse_price2[0]"
   ]
  },
  {
   "cell_type": "code",
   "execution_count": 10,
   "metadata": {},
   "outputs": [],
   "source": [
    "amazone_mouse_data_dic['mouse_name'].append(final_mouse_des2.text)\n",
    "amazone_mouse_data_dic['mouse_price'].append(final_mouse_price2.text)"
   ]
  },
  {
   "cell_type": "code",
   "execution_count": 11,
   "metadata": {},
   "outputs": [
    {
     "name": "stdout",
     "output_type": "stream",
     "text": [
      "20\n",
      "20\n"
     ]
    }
   ],
   "source": [
    "print(len(amazone_mouse_data_dic['mouse_name']))\n",
    "print(len(amazone_mouse_data_dic['mouse_price']))"
   ]
  },
  {
   "cell_type": "code",
   "execution_count": 12,
   "metadata": {},
   "outputs": [
    {
     "data": {
      "text/html": [
       "<div>\n",
       "<style scoped>\n",
       "    .dataframe tbody tr th:only-of-type {\n",
       "        vertical-align: middle;\n",
       "    }\n",
       "\n",
       "    .dataframe tbody tr th {\n",
       "        vertical-align: top;\n",
       "    }\n",
       "\n",
       "    .dataframe thead th {\n",
       "        text-align: right;\n",
       "    }\n",
       "</style>\n",
       "<table border=\"1\" class=\"dataframe\">\n",
       "  <thead>\n",
       "    <tr style=\"text-align: right;\">\n",
       "      <th></th>\n",
       "      <th>mouse_name</th>\n",
       "      <th>mouse_price</th>\n",
       "    </tr>\n",
       "  </thead>\n",
       "  <tbody>\n",
       "    <tr>\n",
       "      <td>1</td>\n",
       "      <td>Zebronics Zeb-Comfort+ Wired Mouse</td>\n",
       "      <td>225</td>\n",
       "    </tr>\n",
       "    <tr>\n",
       "      <td>2</td>\n",
       "      <td>Lenovo 300 Wired USB Mouse, GX30M39704</td>\n",
       "      <td>299</td>\n",
       "    </tr>\n",
       "    <tr>\n",
       "      <td>3</td>\n",
       "      <td>HP X1000 Wired Mouse (Black/Grey)</td>\n",
       "      <td>349</td>\n",
       "    </tr>\n",
       "    <tr>\n",
       "      <td>4</td>\n",
       "      <td>Logitech M90 Wired USB Mouse, 1000 DPI Optical...</td>\n",
       "      <td>299</td>\n",
       "    </tr>\n",
       "    <tr>\n",
       "      <td>5</td>\n",
       "      <td>Xmate Zorro Wired USB Gaming Mouse, 3200 DPI O...</td>\n",
       "      <td>499</td>\n",
       "    </tr>\n",
       "    <tr>\n",
       "      <td>6</td>\n",
       "      <td>Dell MS116 1000DPI USB Wired Optical Mouse</td>\n",
       "      <td>415</td>\n",
       "    </tr>\n",
       "    <tr>\n",
       "      <td>7</td>\n",
       "      <td>Dell Ms116 275-BBCB Optical Mouse</td>\n",
       "      <td>381</td>\n",
       "    </tr>\n",
       "    <tr>\n",
       "      <td>8</td>\n",
       "      <td>Zebronics Zeb-Comfort+ Wired Mouse</td>\n",
       "      <td>225</td>\n",
       "    </tr>\n",
       "    <tr>\n",
       "      <td>9</td>\n",
       "      <td>Zinq Technologies ZQ233 Wired Mouse with 1000D...</td>\n",
       "      <td>199</td>\n",
       "    </tr>\n",
       "    <tr>\n",
       "      <td>10</td>\n",
       "      <td>Portronics Toad 12 Wireless 2.4G Optical Mouse...</td>\n",
       "      <td>477</td>\n",
       "    </tr>\n",
       "    <tr>\n",
       "      <td>11</td>\n",
       "      <td>Zebronics Zeb-Rise Wired USB Optical Mouse wit...</td>\n",
       "      <td>124</td>\n",
       "    </tr>\n",
       "    <tr>\n",
       "      <td>12</td>\n",
       "      <td>iBall Style 63 Optical Mouse (Black)</td>\n",
       "      <td>265</td>\n",
       "    </tr>\n",
       "    <tr>\n",
       "      <td>13</td>\n",
       "      <td>Ant Esports GM200W Gaming Mouse Wired, 6 Progr...</td>\n",
       "      <td>449</td>\n",
       "    </tr>\n",
       "    <tr>\n",
       "      <td>14</td>\n",
       "      <td>Portronics Toad 12 Wireless 2.4G Optical Mouse...</td>\n",
       "      <td>477</td>\n",
       "    </tr>\n",
       "    <tr>\n",
       "      <td>15</td>\n",
       "      <td>iBall FreeGo G20 High Speed Wireless Optical M...</td>\n",
       "      <td>410</td>\n",
       "    </tr>\n",
       "    <tr>\n",
       "      <td>16</td>\n",
       "      <td>HP USB X500 Wired Optical Sensor Mouse 3 Butto...</td>\n",
       "      <td>440</td>\n",
       "    </tr>\n",
       "    <tr>\n",
       "      <td>17</td>\n",
       "      <td>Xmate Rio Wired USB Gaming Mouse, Led Backlit,...</td>\n",
       "      <td>399</td>\n",
       "    </tr>\n",
       "    <tr>\n",
       "      <td>18</td>\n",
       "      <td>Zebronics Zeb-Alex Wired USB Optical Mouse wit...</td>\n",
       "      <td>218</td>\n",
       "    </tr>\n",
       "    <tr>\n",
       "      <td>19</td>\n",
       "      <td>Zinq Technologies ZQ233 Wired Mouse with 1000D...</td>\n",
       "      <td>199</td>\n",
       "    </tr>\n",
       "    <tr>\n",
       "      <td>20</td>\n",
       "      <td>Zebronics ZEB-DLM10 USB Optical Mouse with Pre...</td>\n",
       "      <td>310</td>\n",
       "    </tr>\n",
       "  </tbody>\n",
       "</table>\n",
       "</div>"
      ],
      "text/plain": [
       "                                           mouse_name mouse_price\n",
       "1                  Zebronics Zeb-Comfort+ Wired Mouse         225\n",
       "2              Lenovo 300 Wired USB Mouse, GX30M39704         299\n",
       "3                   HP X1000 Wired Mouse (Black/Grey)         349\n",
       "4   Logitech M90 Wired USB Mouse, 1000 DPI Optical...         299\n",
       "5   Xmate Zorro Wired USB Gaming Mouse, 3200 DPI O...         499\n",
       "6          Dell MS116 1000DPI USB Wired Optical Mouse         415\n",
       "7                   Dell Ms116 275-BBCB Optical Mouse         381\n",
       "8                  Zebronics Zeb-Comfort+ Wired Mouse         225\n",
       "9   Zinq Technologies ZQ233 Wired Mouse with 1000D...         199\n",
       "10  Portronics Toad 12 Wireless 2.4G Optical Mouse...         477\n",
       "11  Zebronics Zeb-Rise Wired USB Optical Mouse wit...         124\n",
       "12               iBall Style 63 Optical Mouse (Black)         265\n",
       "13  Ant Esports GM200W Gaming Mouse Wired, 6 Progr...         449\n",
       "14  Portronics Toad 12 Wireless 2.4G Optical Mouse...         477\n",
       "15  iBall FreeGo G20 High Speed Wireless Optical M...         410\n",
       "16  HP USB X500 Wired Optical Sensor Mouse 3 Butto...         440\n",
       "17  Xmate Rio Wired USB Gaming Mouse, Led Backlit,...         399\n",
       "18  Zebronics Zeb-Alex Wired USB Optical Mouse wit...         218\n",
       "19  Zinq Technologies ZQ233 Wired Mouse with 1000D...         199\n",
       "20  Zebronics ZEB-DLM10 USB Optical Mouse with Pre...         310"
      ]
     },
     "execution_count": 12,
     "metadata": {},
     "output_type": "execute_result"
    }
   ],
   "source": [
    "import pandas as pd\n",
    "amazon_mouse_data=pd.DataFrame(amazone_mouse_data_dic)\n",
    "amazon_mouse_data.index=amazon_mouse_data.index+1\n",
    "amazon_mouse_data"
   ]
  },
  {
   "cell_type": "code",
   "execution_count": null,
   "metadata": {},
   "outputs": [],
   "source": []
  }
 ],
 "metadata": {
  "kernelspec": {
   "display_name": "Python 3",
   "language": "python",
   "name": "python3"
  },
  "language_info": {
   "codemirror_mode": {
    "name": "ipython",
    "version": 3
   },
   "file_extension": ".py",
   "mimetype": "text/x-python",
   "name": "python",
   "nbconvert_exporter": "python",
   "pygments_lexer": "ipython3",
   "version": "3.7.4"
  }
 },
 "nbformat": 4,
 "nbformat_minor": 2
}
