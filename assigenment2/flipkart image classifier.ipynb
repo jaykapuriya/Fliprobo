{
 "cells": [
  {
   "cell_type": "code",
   "execution_count": 1,
   "metadata": {},
   "outputs": [
    {
     "name": "stdout",
     "output_type": "stream",
     "text": [
      "Requirement already satisfied: keras in c:\\programdata\\anaconda3\\lib\\site-packages (2.4.3)\n",
      "Requirement already satisfied: numpy>=1.9.1 in c:\\programdata\\anaconda3\\lib\\site-packages (from keras) (1.16.5)\n",
      "Requirement already satisfied: pyyaml in c:\\programdata\\anaconda3\\lib\\site-packages (from keras) (5.1.2)\n",
      "Requirement already satisfied: h5py in c:\\users\\pritesh\\appdata\\roaming\\python\\python37\\site-packages (from keras) (2.10.0)\n",
      "Requirement already satisfied: scipy>=0.14 in c:\\users\\pritesh\\appdata\\roaming\\python\\python37\\site-packages (from keras) (1.4.1)\n",
      "Requirement already satisfied: six in c:\\programdata\\anaconda3\\lib\\site-packages (from h5py->keras) (1.12.0)\n",
      "Requirement already satisfied: tensorflow in c:\\users\\pritesh\\appdata\\roaming\\python\\python37\\site-packages (2.2.0)\n",
      "Requirement already satisfied: wrapt>=1.11.1 in c:\\programdata\\anaconda3\\lib\\site-packages (from tensorflow) (1.11.2)\n",
      "Requirement already satisfied: tensorboard<2.3.0,>=2.2.0 in c:\\users\\pritesh\\appdata\\roaming\\python\\python37\\site-packages (from tensorflow) (2.2.2)\n",
      "Requirement already satisfied: six>=1.12.0 in c:\\programdata\\anaconda3\\lib\\site-packages (from tensorflow) (1.12.0)\n",
      "Requirement already satisfied: scipy==1.4.1; python_version >= \"3\" in c:\\users\\pritesh\\appdata\\roaming\\python\\python37\\site-packages (from tensorflow) (1.4.1)\n",
      "Requirement already satisfied: keras-preprocessing>=1.1.0 in c:\\users\\pritesh\\appdata\\roaming\\python\\python37\\site-packages (from tensorflow) (1.1.2)\n",
      "Requirement already satisfied: astunparse==1.6.3 in c:\\users\\pritesh\\appdata\\roaming\\python\\python37\\site-packages (from tensorflow) (1.6.3)\n",
      "Requirement already satisfied: termcolor>=1.1.0 in c:\\users\\pritesh\\appdata\\roaming\\python\\python37\\site-packages (from tensorflow) (1.1.0)\n",
      "Requirement already satisfied: google-pasta>=0.1.8 in c:\\users\\pritesh\\appdata\\roaming\\python\\python37\\site-packages (from tensorflow) (0.2.0)\n",
      "Requirement already satisfied: h5py<2.11.0,>=2.10.0 in c:\\users\\pritesh\\appdata\\roaming\\python\\python37\\site-packages (from tensorflow) (2.10.0)\n",
      "Requirement already satisfied: wheel>=0.26; python_version >= \"3\" in c:\\programdata\\anaconda3\\lib\\site-packages (from tensorflow) (0.33.6)\n",
      "Requirement already satisfied: grpcio>=1.8.6 in c:\\users\\pritesh\\appdata\\roaming\\python\\python37\\site-packages (from tensorflow) (1.30.0)\n",
      "Requirement already satisfied: tensorflow-estimator<2.3.0,>=2.2.0 in c:\\users\\pritesh\\appdata\\roaming\\python\\python37\\site-packages (from tensorflow) (2.2.0)\n",
      "Requirement already satisfied: protobuf>=3.8.0 in c:\\programdata\\anaconda3\\lib\\site-packages (from tensorflow) (3.11.0)\n",
      "Requirement already satisfied: gast==0.3.3 in c:\\users\\pritesh\\appdata\\roaming\\python\\python37\\site-packages (from tensorflow) (0.3.3)\n",
      "Requirement already satisfied: opt-einsum>=2.3.2 in c:\\users\\pritesh\\appdata\\roaming\\python\\python37\\site-packages (from tensorflow) (3.2.1)\n",
      "Requirement already satisfied: absl-py>=0.7.0 in c:\\users\\pritesh\\appdata\\roaming\\python\\python37\\site-packages (from tensorflow) (0.9.0)\n",
      "Requirement already satisfied: numpy<2.0,>=1.16.0 in c:\\programdata\\anaconda3\\lib\\site-packages (from tensorflow) (1.16.5)\n",
      "Requirement already satisfied: werkzeug>=0.11.15 in c:\\programdata\\anaconda3\\lib\\site-packages (from tensorboard<2.3.0,>=2.2.0->tensorflow) (0.16.0)\n",
      "Requirement already satisfied: google-auth-oauthlib<0.5,>=0.4.1 in c:\\users\\pritesh\\appdata\\roaming\\python\\python37\\site-packages (from tensorboard<2.3.0,>=2.2.0->tensorflow) (0.4.1)\n",
      "Requirement already satisfied: setuptools>=41.0.0 in c:\\programdata\\anaconda3\\lib\\site-packages (from tensorboard<2.3.0,>=2.2.0->tensorflow) (41.4.0)\n",
      "Requirement already satisfied: requests<3,>=2.21.0 in c:\\programdata\\anaconda3\\lib\\site-packages (from tensorboard<2.3.0,>=2.2.0->tensorflow) (2.22.0)\n",
      "Requirement already satisfied: google-auth<2,>=1.6.3 in c:\\users\\pritesh\\appdata\\roaming\\python\\python37\\site-packages (from tensorboard<2.3.0,>=2.2.0->tensorflow) (1.19.1)\n",
      "Requirement already satisfied: tensorboard-plugin-wit>=1.6.0 in c:\\users\\pritesh\\appdata\\roaming\\python\\python37\\site-packages (from tensorboard<2.3.0,>=2.2.0->tensorflow) (1.7.0)\n",
      "Requirement already satisfied: markdown>=2.6.8 in c:\\users\\pritesh\\appdata\\roaming\\python\\python37\\site-packages (from tensorboard<2.3.0,>=2.2.0->tensorflow) (3.2.2)\n",
      "Requirement already satisfied: requests-oauthlib>=0.7.0 in c:\\users\\pritesh\\appdata\\roaming\\python\\python37\\site-packages (from google-auth-oauthlib<0.5,>=0.4.1->tensorboard<2.3.0,>=2.2.0->tensorflow) (1.3.0)\n",
      "Requirement already satisfied: urllib3!=1.25.0,!=1.25.1,<1.26,>=1.21.1 in c:\\programdata\\anaconda3\\lib\\site-packages (from requests<3,>=2.21.0->tensorboard<2.3.0,>=2.2.0->tensorflow) (1.24.2)\n",
      "Requirement already satisfied: chardet<3.1.0,>=3.0.2 in c:\\programdata\\anaconda3\\lib\\site-packages (from requests<3,>=2.21.0->tensorboard<2.3.0,>=2.2.0->tensorflow) (3.0.4)\n",
      "Requirement already satisfied: idna<2.9,>=2.5 in c:\\programdata\\anaconda3\\lib\\site-packages (from requests<3,>=2.21.0->tensorboard<2.3.0,>=2.2.0->tensorflow) (2.8)\n",
      "Requirement already satisfied: certifi>=2017.4.17 in c:\\programdata\\anaconda3\\lib\\site-packages (from requests<3,>=2.21.0->tensorboard<2.3.0,>=2.2.0->tensorflow) (2019.9.11)\n",
      "Requirement already satisfied: rsa<5,>=3.1.4; python_version >= \"3\" in c:\\users\\pritesh\\appdata\\roaming\\python\\python37\\site-packages (from google-auth<2,>=1.6.3->tensorboard<2.3.0,>=2.2.0->tensorflow) (4.6)\n",
      "Requirement already satisfied: cachetools<5.0,>=2.0.0 in c:\\users\\pritesh\\appdata\\roaming\\python\\python37\\site-packages (from google-auth<2,>=1.6.3->tensorboard<2.3.0,>=2.2.0->tensorflow) (4.1.1)\n",
      "Requirement already satisfied: pyasn1-modules>=0.2.1 in c:\\users\\pritesh\\appdata\\roaming\\python\\python37\\site-packages (from google-auth<2,>=1.6.3->tensorboard<2.3.0,>=2.2.0->tensorflow) (0.2.8)\n",
      "Requirement already satisfied: importlib-metadata; python_version < \"3.8\" in c:\\programdata\\anaconda3\\lib\\site-packages (from markdown>=2.6.8->tensorboard<2.3.0,>=2.2.0->tensorflow) (0.23)\n",
      "Requirement already satisfied: oauthlib>=3.0.0 in c:\\users\\pritesh\\appdata\\roaming\\python\\python37\\site-packages (from requests-oauthlib>=0.7.0->google-auth-oauthlib<0.5,>=0.4.1->tensorboard<2.3.0,>=2.2.0->tensorflow) (3.1.0)\n",
      "Requirement already satisfied: pyasn1>=0.1.3 in c:\\users\\pritesh\\appdata\\roaming\\python\\python37\\site-packages (from rsa<5,>=3.1.4; python_version >= \"3\"->google-auth<2,>=1.6.3->tensorboard<2.3.0,>=2.2.0->tensorflow) (0.4.8)\n",
      "Requirement already satisfied: zipp>=0.5 in c:\\programdata\\anaconda3\\lib\\site-packages (from importlib-metadata; python_version < \"3.8\"->markdown>=2.6.8->tensorboard<2.3.0,>=2.2.0->tensorflow) (0.6.0)\n",
      "Requirement already satisfied: more-itertools in c:\\programdata\\anaconda3\\lib\\site-packages (from zipp>=0.5->importlib-metadata; python_version < \"3.8\"->markdown>=2.6.8->tensorboard<2.3.0,>=2.2.0->tensorflow) (7.2.0)\n"
     ]
    }
   ],
   "source": [
    "!pip install keras\n",
    "!pip install tensorflow\n",
    "import matplotlib.pyplot as plt\n",
    "import cv2\n",
    "import os"
   ]
  },
  {
   "cell_type": "code",
   "execution_count": 2,
   "metadata": {},
   "outputs": [],
   "source": [
    "import numpy as np"
   ]
  },
  {
   "cell_type": "code",
   "execution_count": 3,
   "metadata": {},
   "outputs": [],
   "source": [
    "import keras\n",
    "from keras.models import Sequential\n",
    "from keras.layers import Conv2D,MaxPooling2D,Dense,Flatten,Activation,Dropout,ZeroPadding2D\n",
    "from keras import optimizers\n",
    "from keras.preprocessing.image import ImageDataGenerator"
   ]
  },
  {
   "cell_type": "code",
   "execution_count": 4,
   "metadata": {},
   "outputs": [],
   "source": [
    "import scipy\n",
    "import pylab as pl"
   ]
  },
  {
   "cell_type": "code",
   "execution_count": 25,
   "metadata": {},
   "outputs": [
    {
     "name": "stdout",
     "output_type": "stream",
     "text": [
      "Found 160 images belonging to 2 classes.\n",
      "Found 40 images belonging to 2 classes.\n"
     ]
    }
   ],
   "source": [
    "input_imageshape=(128,128,3)\n",
    "input_width=128\n",
    "input_height=128\n",
    "batch_size=5\n",
    "epochs=15\n",
    "train_sample=160\n",
    "validation_sample=40\n",
    "\n",
    "train_data_dir=r'P:\\jay\\fliprobo\\web scrap\\jeansvstrousers\\train'\n",
    "validation_data_dir=r'P:\\jay\\fliprobo\\web scrap\\jeansvstrousers\\validation'\n",
    "\n",
    "datagen=ImageDataGenerator(rescale=1/255)\n",
    "\n",
    "train_generator=datagen.flow_from_directory(\n",
    "    train_data_dir, \n",
    "    target_size=(128,128),\n",
    "    color_mode=\"rgb\",\n",
    "    batch_size=5,\n",
    "    class_mode=\"binary\",\n",
    "    shuffle=True,\n",
    "    seed=42)\n",
    "\n",
    "validation_generator=datagen.flow_from_directory(\n",
    "   validation_data_dir,\n",
    "    target_size=(128,128),\n",
    "    color_mode='rgb',\n",
    "    batch_size=2,\n",
    "    class_mode=\"binary\",\n",
    "    shuffle=True,\n",
    "    seed=42)\n",
    "\n"
   ]
  },
  {
   "cell_type": "code",
   "execution_count": 28,
   "metadata": {},
   "outputs": [
    {
     "name": "stdout",
     "output_type": "stream",
     "text": [
      "Model: \"sequential_6\"\n",
      "_________________________________________________________________\n",
      "Layer (type)                 Output Shape              Param #   \n",
      "=================================================================\n",
      "conv2d_18 (Conv2D)           (None, 126, 126, 32)      896       \n",
      "_________________________________________________________________\n",
      "conv2d_19 (Conv2D)           (None, 124, 124, 64)      18496     \n",
      "_________________________________________________________________\n",
      "max_pooling2d_12 (MaxPooling (None, 62, 62, 64)        0         \n",
      "_________________________________________________________________\n",
      "dropout_22 (Dropout)         (None, 62, 62, 64)        0         \n",
      "_________________________________________________________________\n",
      "conv2d_20 (Conv2D)           (None, 60, 60, 32)        18464     \n",
      "_________________________________________________________________\n",
      "max_pooling2d_13 (MaxPooling (None, 30, 30, 32)        0         \n",
      "_________________________________________________________________\n",
      "dropout_23 (Dropout)         (None, 30, 30, 32)        0         \n",
      "_________________________________________________________________\n",
      "flatten_6 (Flatten)          (None, 28800)             0         \n",
      "_________________________________________________________________\n",
      "dense_12 (Dense)             (None, 128)               3686528   \n",
      "_________________________________________________________________\n",
      "dropout_24 (Dropout)         (None, 128)               0         \n",
      "_________________________________________________________________\n",
      "dense_13 (Dense)             (None, 1)                 129       \n",
      "=================================================================\n",
      "Total params: 3,724,513\n",
      "Trainable params: 3,724,513\n",
      "Non-trainable params: 0\n",
      "_________________________________________________________________\n",
      "None\n"
     ]
    }
   ],
   "source": [
    "model=Sequential()\n",
    "model.add(Conv2D(32,(3,3),activation='relu',input_shape=input_imageshape))\n",
    "model.add(Conv2D(64,(3,3),activation='relu'))\n",
    "model.add(MaxPooling2D(pool_size=(2,2)))\n",
    "model.add(Dropout(0.5))\n",
    "model.add(Conv2D(32,(3,3),activation='relu'))\n",
    "model.add(MaxPooling2D(pool_size=(2,2)))\n",
    "model.add(Dropout(0.5))\n",
    "model.add(Flatten())\n",
    "model.add(Dense(128,activation='relu'))\n",
    "model.add(Dropout(0.5))\n",
    "model.add(Dense(1,activation='sigmoid'))\n",
    "model.compile(loss='binary_crossentropy',optimizer='rmsprop',metrics=['accuracy'])\n",
    "print(model.summary())"
   ]
  },
  {
   "cell_type": "code",
   "execution_count": 29,
   "metadata": {},
   "outputs": [
    {
     "name": "stdout",
     "output_type": "stream",
     "text": [
      "Epoch 1/15\n",
      "32/32 [==============================] - 11s 349ms/step - loss: 1.1089 - accuracy: 0.4688 - val_loss: 0.6930 - val_accuracy: 0.5000\n",
      "Epoch 2/15\n",
      "32/32 [==============================] - 11s 335ms/step - loss: 1.0127 - accuracy: 0.5375 - val_loss: 0.6878 - val_accuracy: 0.5000\n",
      "Epoch 3/15\n",
      "32/32 [==============================] - 11s 355ms/step - loss: 0.6650 - accuracy: 0.6313 - val_loss: 0.7180 - val_accuracy: 0.6250\n",
      "Epoch 4/15\n",
      "32/32 [==============================] - 12s 378ms/step - loss: 0.6908 - accuracy: 0.7000 - val_loss: 0.6356 - val_accuracy: 0.6875\n",
      "Epoch 5/15\n",
      "32/32 [==============================] - 12s 386ms/step - loss: 0.5892 - accuracy: 0.7312 - val_loss: 0.3803 - val_accuracy: 0.9375\n",
      "Epoch 6/15\n",
      "32/32 [==============================] - 12s 378ms/step - loss: 0.6063 - accuracy: 0.7188 - val_loss: 0.5241 - val_accuracy: 0.7500\n",
      "Epoch 7/15\n",
      "32/32 [==============================] - 12s 385ms/step - loss: 0.5380 - accuracy: 0.7500 - val_loss: 0.5073 - val_accuracy: 0.8750\n",
      "Epoch 8/15\n",
      "32/32 [==============================] - 12s 377ms/step - loss: 0.5427 - accuracy: 0.7937 - val_loss: 0.5408 - val_accuracy: 0.6875\n",
      "Epoch 9/15\n",
      "32/32 [==============================] - 12s 376ms/step - loss: 0.4353 - accuracy: 0.8125 - val_loss: 0.2887 - val_accuracy: 0.8750\n",
      "Epoch 10/15\n",
      "32/32 [==============================] - 12s 377ms/step - loss: 0.4363 - accuracy: 0.8562 - val_loss: 0.3408 - val_accuracy: 0.9375\n",
      "Epoch 11/15\n",
      "32/32 [==============================] - 12s 376ms/step - loss: 0.3136 - accuracy: 0.8875 - val_loss: 0.6244 - val_accuracy: 0.7500\n",
      "Epoch 12/15\n",
      "32/32 [==============================] - 12s 377ms/step - loss: 0.2888 - accuracy: 0.8813 - val_loss: 0.4212 - val_accuracy: 0.8125\n",
      "Epoch 13/15\n",
      "32/32 [==============================] - 12s 378ms/step - loss: 0.3273 - accuracy: 0.8750 - val_loss: 0.4416 - val_accuracy: 0.8125\n",
      "Epoch 14/15\n",
      "32/32 [==============================] - 12s 377ms/step - loss: 0.2486 - accuracy: 0.9312 - val_loss: 0.4625 - val_accuracy: 0.9375\n",
      "Epoch 15/15\n",
      "32/32 [==============================] - 12s 379ms/step - loss: 0.2069 - accuracy: 0.9250 - val_loss: 0.2534 - val_accuracy: 0.8750\n"
     ]
    }
   ],
   "source": [
    "history=model.fit_generator(\n",
    "    train_generator,\n",
    "    steps_per_epoch= 160 // batch_size,\n",
    "    epochs=epochs,\n",
    "    validation_data=validation_generator,\n",
    "    validation_steps= 40 // batch_size)"
   ]
  },
  {
   "cell_type": "code",
   "execution_count": 30,
   "metadata": {},
   "outputs": [],
   "source": [
    "history_dict=history.history"
   ]
  },
  {
   "cell_type": "code",
   "execution_count": 31,
   "metadata": {},
   "outputs": [
    {
     "data": {
      "text/plain": [
       "{'loss': [1.1089335680007935,\n",
       "  1.0127122402191162,\n",
       "  0.6650477051734924,\n",
       "  0.6907945871353149,\n",
       "  0.5891900658607483,\n",
       "  0.6062842607498169,\n",
       "  0.5380407571792603,\n",
       "  0.542702317237854,\n",
       "  0.43527132272720337,\n",
       "  0.4362773895263672,\n",
       "  0.3135647773742676,\n",
       "  0.28879621624946594,\n",
       "  0.327300488948822,\n",
       "  0.2486073076725006,\n",
       "  0.2068767547607422],\n",
       " 'accuracy': [0.46875,\n",
       "  0.5375000238418579,\n",
       "  0.6312500238418579,\n",
       "  0.699999988079071,\n",
       "  0.731249988079071,\n",
       "  0.71875,\n",
       "  0.75,\n",
       "  0.793749988079071,\n",
       "  0.8125,\n",
       "  0.856249988079071,\n",
       "  0.887499988079071,\n",
       "  0.8812500238418579,\n",
       "  0.875,\n",
       "  0.9312499761581421,\n",
       "  0.925000011920929],\n",
       " 'val_loss': [0.6930209398269653,\n",
       "  0.6877848505973816,\n",
       "  0.7179648876190186,\n",
       "  0.6355628371238708,\n",
       "  0.38025152683258057,\n",
       "  0.5240700840950012,\n",
       "  0.5073014497756958,\n",
       "  0.5408124327659607,\n",
       "  0.2887328267097473,\n",
       "  0.3408357799053192,\n",
       "  0.6243970394134521,\n",
       "  0.4211791157722473,\n",
       "  0.4416177272796631,\n",
       "  0.462526798248291,\n",
       "  0.2534258961677551],\n",
       " 'val_accuracy': [0.5,\n",
       "  0.5,\n",
       "  0.625,\n",
       "  0.6875,\n",
       "  0.9375,\n",
       "  0.75,\n",
       "  0.875,\n",
       "  0.6875,\n",
       "  0.875,\n",
       "  0.9375,\n",
       "  0.75,\n",
       "  0.8125,\n",
       "  0.8125,\n",
       "  0.9375,\n",
       "  0.875]}"
      ]
     },
     "execution_count": 31,
     "metadata": {},
     "output_type": "execute_result"
    }
   ],
   "source": [
    "history_dict"
   ]
  },
  {
   "cell_type": "code",
   "execution_count": null,
   "metadata": {},
   "outputs": [],
   "source": []
  }
 ],
 "metadata": {
  "kernelspec": {
   "display_name": "Python 3",
   "language": "python",
   "name": "python3"
  },
  "language_info": {
   "codemirror_mode": {
    "name": "ipython",
    "version": 3
   },
   "file_extension": ".py",
   "mimetype": "text/x-python",
   "name": "python",
   "nbconvert_exporter": "python",
   "pygments_lexer": "ipython3",
   "version": "3.7.4"
  }
 },
 "nbformat": 4,
 "nbformat_minor": 2
}
