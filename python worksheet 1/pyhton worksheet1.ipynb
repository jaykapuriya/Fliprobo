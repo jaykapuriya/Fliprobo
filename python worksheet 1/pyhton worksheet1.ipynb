{
 "cells": [
  {
   "cell_type": "markdown",
   "metadata": {},
   "source": [
    "#11 factorial of number"
   ]
  },
  {
   "cell_type": "code",
   "execution_count": 8,
   "metadata": {},
   "outputs": [],
   "source": [
    "def factorial(n): \n",
    "     return 1 if (n==1 or n==0) else n * factorial(n - 1); "
   ]
  },
  {
   "cell_type": "markdown",
   "metadata": {},
   "source": [
    "#12 prime or composite number"
   ]
  },
  {
   "cell_type": "code",
   "execution_count": 115,
   "metadata": {},
   "outputs": [],
   "source": [
    "def pc_check(n):\n",
    "    if n>1:\n",
    "        for i in range(2,n):\n",
    "            if (n % i) == 0:\n",
    "                print(n,'is composite number')\n",
    "                break\n",
    "            else:\n",
    "                print(n,'is prime number')\n",
    "                break\n",
    "    else:\n",
    "        print(n,'is neither prime nor composite')"
   ]
  },
  {
   "cell_type": "markdown",
   "metadata": {},
   "source": [
    "#13 palidrome string"
   ]
  },
  {
   "cell_type": "code",
   "execution_count": 168,
   "metadata": {},
   "outputs": [],
   "source": [
    "def palidrome(txt):\n",
    "    j = -1\n",
    "    flag = 0\n",
    "    for i in txt:\n",
    "        if i != txt[j]:\n",
    "            flag=1\n",
    "            break\n",
    "        else:   \n",
    "            j=j-1\n",
    "    if flag==1:\n",
    "        print(\"string is not paloidrome\")\n",
    "    else:\n",
    "        print(\"string is palidrome\")"
   ]
  },
  {
   "cell_type": "markdown",
   "metadata": {},
   "source": [
    "#14  right-angled triangle third side"
   ]
  },
  {
   "cell_type": "code",
   "execution_count": 183,
   "metadata": {},
   "outputs": [],
   "source": [
    "def trgl_side(opposite_side,adjacent_side,hypotenuse):\n",
    "        if opposite_side == str('x'):\n",
    "            return (\"Opposite = \" + str(((hypotenuse**2) - (adjacent_side**2))**0.5))\n",
    "        elif adjacent_side == str('x'):\n",
    "            return (\"Adjacent = \" + str(((hypotenuse**2) - (opposite_side**2))**0.5))\n",
    "        elif hypotenuse == str('x'):\n",
    "            return (\"Hypotenuse = \" + str(((opposite_side**2) + (adjacent_side**2))**0.5))"
   ]
  },
  {
   "cell_type": "code",
   "execution_count": 188,
   "metadata": {},
   "outputs": [],
   "source": [
    "from collections import Counter\n",
    "def fqcy_counter(str):\n",
    "    res=Counter(str)\n",
    "    print(res)"
   ]
  },
  {
   "cell_type": "code",
   "execution_count": null,
   "metadata": {},
   "outputs": [],
   "source": []
  }
 ],
 "metadata": {
  "kernelspec": {
   "display_name": "Python 3",
   "language": "python",
   "name": "python3"
  },
  "language_info": {
   "codemirror_mode": {
    "name": "ipython",
    "version": 3
   },
   "file_extension": ".py",
   "mimetype": "text/x-python",
   "name": "python",
   "nbconvert_exporter": "python",
   "pygments_lexer": "ipython3",
   "version": "3.7.4"
  }
 },
 "nbformat": 4,
 "nbformat_minor": 2
}
