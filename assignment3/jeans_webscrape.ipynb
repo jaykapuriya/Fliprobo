{
 "cells": [
  {
   "cell_type": "code",
   "execution_count": 56,
   "metadata": {},
   "outputs": [
    {
     "name": "stdout",
     "output_type": "stream",
     "text": [
      "Requirement already satisfied: selenium in c:\\programdata\\anaconda3\\lib\\site-packages (3.141.0)\n",
      "Requirement already satisfied: urllib3 in c:\\programdata\\anaconda3\\lib\\site-packages (from selenium) (1.24.2)\n"
     ]
    }
   ],
   "source": [
    "!pip install selenium\n",
    "from selenium import webdriver"
   ]
  },
  {
   "cell_type": "code",
   "execution_count": 58,
   "metadata": {},
   "outputs": [],
   "source": [
    "driver=webdriver.Chrome(r'C:\\Users\\Pritesh\\.anaconda\\navigator\\scripts\\chromedriver.exe')\n",
    "driver.get('https://www.flipkart.com/search?q=jeans&otracker=search&otracker1=search&marketplace=FLIPKART&as-show=on&as=off&page=1')"
   ]
  },
  {
   "cell_type": "code",
   "execution_count": 59,
   "metadata": {},
   "outputs": [],
   "source": [
    "import os\n",
    "current_path=(r'P:\\jay\\fliprobo\\web scrap')\n",
    "dir_name=('jeans')\n",
    "path=os.path.join(current_path,dir_name)\n",
    "if not os.path.exists(path):\n",
    "    os.makedirs(path)"
   ]
  },
  {
   "cell_type": "code",
   "execution_count": 60,
   "metadata": {},
   "outputs": [],
   "source": [
    "images=driver.find_elements_by_xpath(\"//img[@class='_3togXc']\")"
   ]
  },
  {
   "cell_type": "code",
   "execution_count": 61,
   "metadata": {},
   "outputs": [
    {
     "name": "stdout",
     "output_type": "stream",
     "text": [
      "https://rukminim1.flixcart.com/image/329/395/k12go7k0/jean/k/f/8/32-efskn-dev-160-spykar-original-imafkqaw8b6buafx.jpeg?q=50\n",
      "https://rukminim1.flixcart.com/image/329/395/k2z1t3k0/jean/h/g/u/32-36087-0134-levi-s-original-imafm7zjnvfrhnty.jpeg?q=50\n",
      "https://rukminim1.flixcart.com/image/329/395/jh6l2fk0/jean/4/a/z/30-lj183a-lzard-original-imaf5883mb8vchhb.jpeg?q=50\n",
      "https://rukminim1.flixcart.com/image/329/395/k4vmxzk0/jean/y/c/n/32-bss20d015-billion-original-imafnzy3ebxjrzeh.jpeg?q=50\n",
      "https://rukminim1.flixcart.com/image/329/395/jqmnv680/jean/h/u/p/36-lj3127-lzard-original-imafckugeffzszqx.jpeg?q=50\n",
      "https://rukminim1.flixcart.com/image/329/395/k7xnukw0/jean/3/v/u/34-printed-styzon-original-imafqfmjsgp573wg.jpeg?q=50\n",
      "https://rukminim1.flixcart.com/image/329/395/jjylw280/jean/p/a/s/34-eps-black-03-urbano-fashion-original-imaf7f7wyy7sv6zk.jpeg?q=50\n",
      "https://rukminim1.flixcart.com/image/329/395/k3hmj680/jean/f/n/n/28-lj3381-lzard-original-imafmm52tbx6nthc.jpeg?q=50\n",
      "https://rukminim1.flixcart.com/image/329/395/jh6l2fk0/jean/d/h/p/40-lj112-lzard-original-imaf587vppbc3guq.jpeg?q=50\n",
      "https://rukminim1.flixcart.com/image/329/395/j9eirgw0/jean/z/c/h/34-mj-dcut-02a-xee-original-imaez7ffge6rvy9e.jpeg?q=50\n",
      "https://rukminim1.flixcart.com/image/329/395/jhavdzk0/jean/j/x/p/30-hpsjogger-lgrey-urbano-fashion-original-imaf5bzbhhvwu9by.jpeg?q=50\n",
      "https://rukminim1.flixcart.com/image/329/395/jean/n/u/3/bmw-darklevis-ben-martin-32-original-imaedpc4zcgjadsv.jpeg?q=50\n",
      "https://rukminim1.flixcart.com/image/329/395/jactbww0/jean/r/j/6/36-mjr-kc-02-editlook-original-imaez7ffths6ggpx.jpeg?q=50\n",
      "https://rukminim1.flixcart.com/image/329/395/k612pow0/jean/a/g/w/42-4-killer-original-imafmzfaszkrhb7s.jpeg?q=50\n",
      "https://rukminim1.flixcart.com/image/329/395/k29bvrk0pkrrdj/jean/t/3/j/28-black-yellow-pati-black-jean-styzon-original-imafkq2anhsxeag7.jpeg?q=50\n",
      "https://rukminim1.flixcart.com/image/329/395/k2gh30w0/jean/u/p/j/28-fashion-6-charming-boutique-original-imafhsynz3zzhyse.jpeg?q=50\n",
      "https://rukminim1.flixcart.com/image/329/395/j6gs6fk0/jean/n/h/z/40-jog-hps-black-urbano-fashion-original-imaewxe7fgyx7u28.jpeg?q=50\n",
      "https://rukminim1.flixcart.com/image/329/395/jydaqa80/jean/g/z/h/38-epssprcrs-lblue-urbano-fashion-original-imafgmhbhhgnucwa.jpeg?q=50\n",
      "https://rukminim1.flixcart.com/image/329/395/jrgo4280/jean/j/u/b/32-mje005-billion-original-imafd9g3pquyffuv.jpeg?q=50\n",
      "https://rukminim1.flixcart.com/image/329/395/k7xnukw0/jean/k/z/f/32-kjb-1246-slnkft-bl-killer-original-imafq2fy5rfx2aja.jpeg?q=50\n",
      "https://rukminim1.flixcart.com/image/329/395/k9re3rk0/jean/8/o/p/28-ri103-ragzo-original-imaevp8am4vhmad4.jpeg?q=50\n",
      "https://rukminim1.flixcart.com/image/329/395/jhavdzk0/jean/v/f/h/28-hps-lgrey-urbano-fashion-original-imaf5bzbhcfqmgtx.jpeg?q=50\n",
      "https://rukminim1.flixcart.com/image/329/395/k4vmxzk0/jean/z/h/n/32-bss20d012-billion-original-imafnzy7hacyszmh.jpeg?q=50\n",
      "https://rukminim1.flixcart.com/image/329/395/k0e66q80/jean/y/s/4/32-l36164248smu-lee-original-imafk7y4fdh2jgsp.jpeg?q=50\n",
      "https://rukminim1.flixcart.com/image/329/395/js4yljk0/jean/j/z/h/38-jns-light-grey-ben-martin-original-imafdr5u6q7egwc7.jpeg?q=50\n",
      "https://rukminim1.flixcart.com/image/329/395/k6l2vm80/jean/5/j/b/32-d-jen-2020-white-6-masterly-weft-original-imafpyauff9z7nzt.jpeg?q=50\n",
      "https://rukminim1.flixcart.com/image/329/395/jean/z/d/z/lj250-l-zard-32-original-imaep4d5w4njhjyv.jpeg?q=50\n",
      "https://rukminim1.flixcart.com/image/329/395/k0zlsi80/jean/6/z/j/32-maw19jn130-metronaut-original-imafkmpx4vcf9y9p.jpeg?q=50\n",
      "https://rukminim1.flixcart.com/image/329/395/k70spzk0/jean/w/w/m/30-hljn000812-highlander-original-imafpchypbkm7afk.jpeg?q=50\n",
      "https://rukminim1.flixcart.com/image/329/395/jactbww0/jean/r/j/6/36-mjr-kc-02-editlook-original-imaez7ffths6ggpx.jpeg?q=50\n",
      "https://rukminim1.flixcart.com/image/329/395/jmawvbk0/jean/5/s/v/36-d-jen-white-3-masterly-weft-original-imaf98nxewqezpc2.jpeg?q=50\n",
      "https://rukminim1.flixcart.com/image/329/395/jy4q3680/jean/z/b/3/32-kmjnra190-moser-numero-uno-original-imafgfuxuzajky7j.jpeg?q=50\n",
      "https://rukminim1.flixcart.com/image/329/395/k7f34i80/jean/n/p/z/30-jeen-171718-saira-fashion-original-imafpz6tg8k4gqtt.jpeg?q=50\n",
      "https://rukminim1.flixcart.com/image/329/395/jean/e/f/t/lj136-l-zard-37-original-imaezhhswcbzrdyq.jpeg?q=50\n",
      "https://rukminim1.flixcart.com/image/329/395/kcc9q4w0/jean/l/f/s/36-440850117-darkblue-john-players-original-imaftheg5trykux7.jpeg?q=50\n",
      "https://rukminim1.flixcart.com/image/329/395/k251k7k0/jean/s/a/b/32-l36200248smu-lee-original-imafhjfcgwgsdzxv.jpeg?q=50\n",
      "https://rukminim1.flixcart.com/image/329/395/jievpu80/jean/c/g/x/32-neera-singh-1-snaave-original-imaf66wdsrsefzvj.jpeg?q=50\n",
      "https://rukminim1.flixcart.com/image/329/395/jydaqa80/jean/p/y/f/36-epsjean-lblu-urbano-fashion-original-imafgmhh7azrhj3u.jpeg?q=50\n",
      "https://rukminim1.flixcart.com/image/329/395/jzsqky80/jean/3/h/v/28-d-jen-w-lbl-7-masterly-weft-original-imafjpwpvxgrkszv.jpeg?q=50\n",
      "https://rukminim1.flixcart.com/image/329/395/k7ksvww0/jean/n/d/k/32-mss20jn143-metronaut-original-imafpsfvdgzmacwm.jpeg?q=50\n"
     ]
    }
   ],
   "source": [
    "url=[]\n",
    "for image in images:\n",
    "    source=image.get_attribute('src')\n",
    "    url.append(source)\n",
    "    print(source)"
   ]
  },
  {
   "cell_type": "code",
   "execution_count": 62,
   "metadata": {},
   "outputs": [],
   "source": [
    "import shutil\n",
    "import requests"
   ]
  },
  {
   "cell_type": "code",
   "execution_count": 63,
   "metadata": {},
   "outputs": [
    {
     "name": "stdout",
     "output_type": "stream",
     "text": [
      "downloding image 1 of 40 from page 1\n",
      "downloding image 2 of 40 from page 1\n",
      "downloding image 3 of 40 from page 1\n",
      "downloding image 4 of 40 from page 1\n",
      "downloding image 5 of 40 from page 1\n",
      "downloding image 6 of 40 from page 1\n",
      "downloding image 7 of 40 from page 1\n",
      "downloding image 8 of 40 from page 1\n",
      "downloding image 9 of 40 from page 1\n",
      "downloding image 10 of 40 from page 1\n",
      "downloding image 11 of 40 from page 1\n",
      "downloding image 12 of 40 from page 1\n",
      "downloding image 13 of 40 from page 1\n",
      "downloding image 14 of 40 from page 1\n",
      "downloding image 15 of 40 from page 1\n",
      "downloding image 16 of 40 from page 1\n",
      "downloding image 17 of 40 from page 1\n",
      "downloding image 18 of 40 from page 1\n",
      "downloding image 19 of 40 from page 1\n",
      "downloding image 20 of 40 from page 1\n",
      "downloding image 21 of 40 from page 1\n",
      "downloding image 22 of 40 from page 1\n",
      "downloding image 23 of 40 from page 1\n",
      "downloding image 24 of 40 from page 1\n",
      "downloding image 25 of 40 from page 1\n",
      "downloding image 26 of 40 from page 1\n",
      "downloding image 27 of 40 from page 1\n",
      "downloding image 28 of 40 from page 1\n",
      "downloding image 29 of 40 from page 1\n",
      "downloding image 30 of 40 from page 1\n",
      "downloding image 31 of 40 from page 1\n",
      "downloding image 32 of 40 from page 1\n",
      "downloding image 33 of 40 from page 1\n",
      "downloding image 34 of 40 from page 1\n",
      "downloding image 35 of 40 from page 1\n",
      "downloding image 36 of 40 from page 1\n",
      "downloding image 37 of 40 from page 1\n",
      "downloding image 38 of 40 from page 1\n",
      "downloding image 39 of 40 from page 1\n",
      "downloding image 40 of 40 from page 1\n"
     ]
    }
   ],
   "source": [
    "page=1\n",
    "for index, link in enumerate(url):\n",
    "    print('downloding image {} of {} from page 1'.format(index+1,len(url)))\n",
    "    response=requests.get(link)\n",
    "    with open(r'P:\\jay\\fliprobo\\web scrap\\jeans\\img {}{}.jpeg'.format(index+1,page),'wb') as file:\n",
    "              file.write(response.content)"
   ]
  },
  {
   "cell_type": "code",
   "execution_count": 64,
   "metadata": {},
   "outputs": [],
   "source": [
    "page2=driver.find_element_by_xpath(\"//a[@class='_3fVaIS']\").click()"
   ]
  },
  {
   "cell_type": "code",
   "execution_count": 65,
   "metadata": {},
   "outputs": [
    {
     "data": {
      "text/plain": [
       "40"
      ]
     },
     "execution_count": 65,
     "metadata": {},
     "output_type": "execute_result"
    }
   ],
   "source": [
    "images2=driver.find_elements_by_xpath(\"//img[@class='_3togXc']\")\n",
    "len(images2)"
   ]
  },
  {
   "cell_type": "code",
   "execution_count": 66,
   "metadata": {},
   "outputs": [
    {
     "name": "stdout",
     "output_type": "stream",
     "text": [
      "https://rukminim1.flixcart.com/image/329/395/jsge4cw0/jean/h/w/e/40-hpsjogger-black-urbano-fashion-original-imafey94hfth8259.jpeg?q=50\n",
      "https://rukminim1.flixcart.com/image/329/395/j7rxpjk0/jean/g/h/p/30-eps-grey-urbano-fashion-original-imaexsz3tufyntgg.jpeg?q=50\n",
      "https://rukminim1.flixcart.com/image/329/395/jsdj8nk0/jean/m/s/u/38-eps-black-06-urbano-fashion-original-imafdzf4dccpv4yt.jpeg?q=50\n",
      "https://rukminim1.flixcart.com/image/329/395/k3yrte80/jean/z/6/4/32-kjb-1195-dnft-eru-killer-original-imafmzybahj9s3vh.jpeg?q=50\n",
      "https://rukminim1.flixcart.com/image/329/395/k70spzk0/jean/r/t/6/30-hljn000685-highlander-original-imafpchxtxu4qbfr.jpeg?q=50\n",
      "https://rukminim1.flixcart.com/image/329/395/j3kh18w0/jean/9/t/q/34-bmw-bm-3-lblue-ben-martin-original-imaeunezddynfhed.jpeg?q=50\n",
      "https://rukminim1.flixcart.com/image/329/395/jmawvbk0/jean/j/m/q/30-fmjh1041-flying-machine-original-imaf98h9qr5fn9q6.jpeg?q=50\n",
      "https://rukminim1.flixcart.com/image/329/395/k2urhjk0/jean/n/e/w/32-w38456w22smu-wrangler-original-imafhv9f7ezf8wpy.jpeg?q=50\n",
      "https://rukminim1.flixcart.com/image/329/395/k12go7k0/jean/x/t/r/32-mss19ajn008-metronaut-original-imafdg4qf32sr5qb.jpeg?q=50\n",
      "https://rukminim1.flixcart.com/image/329/395/jynat8w0/jean/g/h/b/28-2276-buynewtrend-original-imafgu6wpxwgafrh.jpeg?q=50\n",
      "https://rukminim1.flixcart.com/image/329/395/k7ksvww0/jean/x/2/h/32-mss20jn145-metronaut-original-imafpsfubhzjwmth.jpeg?q=50\n",
      "https://rukminim1.flixcart.com/image/329/395/k1v1h8w0/jean/n/g/6/32-w37013w22smu-wrangler-original-imafhc9feyzymcuz.jpeg?q=50\n",
      "https://rukminim1.flixcart.com/image/329/395/kbb49zk0/jean/f/z/a/38-bmw-darklevis-d-ben-martin-original-imafszrt2eye6n7b.jpeg?q=50\n",
      "https://rukminim1.flixcart.com/image/329/395/k70spzk0/jean/n/t/g/30-hljn000889-highlander-original-imafpchpbrpvupsj.jpeg?q=50\n",
      "https://rukminim1.flixcart.com/image/329/395/jq5iky80/jean/t/y/m/36-ss19jn-dncufzp-m-pln-bu-campus-sutra-original-imafc57cy5razryy.jpeg?q=50\n",
      "https://rukminim1.flixcart.com/image/329/395/k0zlsi80/jean/v/y/s/32-maw19jn132-metronaut-original-imafkmgsvfnyte9q.jpeg?q=50\n",
      "https://rukminim1.flixcart.com/image/329/395/jsw3yq80/jean/j/c/c/32-mss19ajn020-metronaut-original-imafede5zhvgchsk.jpeg?q=50\n",
      "https://rukminim1.flixcart.com/image/329/395/ka492fk0/jean/b/d/o/36-zip-jog-hps-black-urbano-fashion-original-imafrqg3nhcefzjt.jpeg?q=50\n",
      "https://rukminim1.flixcart.com/image/329/395/ju79hu80/jean/h/r/v/32-mss19jn039-metronaut-original-imaffyknbpwezhkq.jpeg?q=50\n",
      "https://rukminim1.flixcart.com/image/329/395/k3yrte80/jean/c/m/9/32-kjb-1163-dnft-lghtbl-killer-original-imafmzybnjc8y2e8.jpeg?q=50\n",
      "https://rukminim1.flixcart.com/image/329/395/jhgl5e80/jean/z/8/u/36-lj116-lzard-original-imaf5agyk7fhatc5.jpeg?q=50\n",
      "https://rukminim1.flixcart.com/image/329/395/jqmnv680/jean/f/c/q/40-lj3129-lzard-original-imafchjy8cucejka.jpeg?q=50\n",
      "https://rukminim1.flixcart.com/image/329/395/jrgo4280/jean/z/4/f/34-ss119jn-elastp-m-pln-dbu-campus-sutra-original-imafd82rdgryhzer.jpeg?q=50\n",
      "https://rukminim1.flixcart.com/image/329/395/k5y7tzk0/jean/v/p/c/34-10-killer-original-imafzgvk5huugmen.jpeg?q=50\n",
      "https://rukminim1.flixcart.com/image/329/395/k4vmxzk0/jean/u/e/h/32-bss20d013-billion-original-imafnzy7sgjdhazn.jpeg?q=50\n",
      "https://rukminim1.flixcart.com/image/329/395/jhgl5e80/jean/h/v/f/40-lj090a-lzard-original-imaf5ah3wfxanavp.jpeg?q=50\n",
      "https://rukminim1.flixcart.com/image/329/395/k3670cw0/jean/m/f/b/l-stars-01-glampa-original-imafgy9yuvzyak9h.jpeg?q=50\n",
      "https://rukminim1.flixcart.com/image/329/395/jz05rww0/jean/v/u/p/32-w37165w22smu-wrangler-original-imafj47f3z5nfu47.jpeg?q=50\n",
      "https://rukminim1.flixcart.com/image/329/395/jean/q/g/j/lj005-l-zard-37-original-imaep49yqnzg7st3.jpeg?q=50\n",
      "https://rukminim1.flixcart.com/image/329/395/jyafukw0/jean/s/n/6/32-maw19jn007-metronaut-original-imafghefvbcusezf.jpeg?q=50\n",
      "https://rukminim1.flixcart.com/image/329/395/jy90eq80/jean/d/u/z/38-hpsjogger-wgrey-urbano-fashion-original-imafggj23hmb4j4s.jpeg?q=50\n",
      "https://rukminim1.flixcart.com/image/329/395/k0e66q80/jean/n/a/s/32-l36150248smu-lee-original-imafk7y4tdcusrfy.jpeg?q=50\n",
      "https://rukminim1.flixcart.com/image/329/395/jzfvma80/jean/v/x/q/40-ht006-hill-turner-original-imafjggzgx2ywgtz.jpeg?q=50\n",
      "https://rukminim1.flixcart.com/image/329/395/k0plpjk0/jean/t/f/q/42-bepldrj01-42-khakee-dais-original-imafgdh5g5ph6thc.jpeg?q=50\n",
      "https://rukminim1.flixcart.com/image/329/395/k70spzk0/jean/y/j/m/30-hljn000669-highlander-original-imafpchxznpkh5zj.jpeg?q=50\n",
      "https://rukminim1.flixcart.com/image/329/395/k0flmkw0/jean/c/8/z/32-l36172248smu-lee-original-imafk74zebpjpgh3.jpeg?q=50\n",
      "https://rukminim1.flixcart.com/image/329/395/jydaqa80/jean/y/z/9/30-bepldrjo1black-dais-original-imafgmfy6vudurvj.jpeg?q=50\n",
      "https://rukminim1.flixcart.com/image/329/395/jtbtt3k0/jean/c/f/8/32-4jk-jog-ridge-vogue-original-imafezqpdh8h28jg.jpeg?q=50\n",
      "https://rukminim1.flixcart.com/image/329/395/k6nxrbk0/jean/m/h/j/28-d-jen-2020-white-20-2-masterly-weft-original-imafp24cdcwugv3m.jpeg?q=50\n",
      "https://rukminim1.flixcart.com/image/329/395/ju79hu80/jean/h/r/v/32-mss19jn039-metronaut-original-imaffyknbpwezhkq.jpeg?q=50\n"
     ]
    }
   ],
   "source": [
    "url2=[]\n",
    "for image in images2:\n",
    "    source2=image.get_attribute('src')\n",
    "    url2.append(source2)\n",
    "    print(source2)"
   ]
  },
  {
   "cell_type": "code",
   "execution_count": 67,
   "metadata": {},
   "outputs": [
    {
     "name": "stdout",
     "output_type": "stream",
     "text": [
      "downling image 1 of 40 from page 2\n",
      "downling image 2 of 40 from page 2\n",
      "downling image 3 of 40 from page 2\n",
      "downling image 4 of 40 from page 2\n",
      "downling image 5 of 40 from page 2\n",
      "downling image 6 of 40 from page 2\n",
      "downling image 7 of 40 from page 2\n",
      "downling image 8 of 40 from page 2\n",
      "downling image 9 of 40 from page 2\n",
      "downling image 10 of 40 from page 2\n",
      "downling image 11 of 40 from page 2\n",
      "downling image 12 of 40 from page 2\n",
      "downling image 13 of 40 from page 2\n",
      "downling image 14 of 40 from page 2\n",
      "downling image 15 of 40 from page 2\n",
      "downling image 16 of 40 from page 2\n",
      "downling image 17 of 40 from page 2\n",
      "downling image 18 of 40 from page 2\n",
      "downling image 19 of 40 from page 2\n",
      "downling image 20 of 40 from page 2\n",
      "downling image 21 of 40 from page 2\n",
      "downling image 22 of 40 from page 2\n",
      "downling image 23 of 40 from page 2\n",
      "downling image 24 of 40 from page 2\n",
      "downling image 25 of 40 from page 2\n",
      "downling image 26 of 40 from page 2\n",
      "downling image 27 of 40 from page 2\n",
      "downling image 28 of 40 from page 2\n",
      "downling image 29 of 40 from page 2\n",
      "downling image 30 of 40 from page 2\n",
      "downling image 31 of 40 from page 2\n",
      "downling image 32 of 40 from page 2\n",
      "downling image 33 of 40 from page 2\n",
      "downling image 34 of 40 from page 2\n",
      "downling image 35 of 40 from page 2\n",
      "downling image 36 of 40 from page 2\n",
      "downling image 37 of 40 from page 2\n",
      "downling image 38 of 40 from page 2\n",
      "downling image 39 of 40 from page 2\n",
      "downling image 40 of 40 from page 2\n"
     ]
    }
   ],
   "source": [
    "page=2\n",
    "for index, link2 in enumerate(url2):\n",
    "    print('downling image {} of {} from page 2'.format(index+1,len(url2)))\n",
    "    response2=requests.get(link2)\n",
    "    with open(r'P:\\jay\\fliprobo\\web scrap\\jeans\\img {}{}.jpeg'.format(index+1,page),'wb')as file:\n",
    "        file.write(response2.content)"
   ]
  },
  {
   "cell_type": "code",
   "execution_count": 68,
   "metadata": {},
   "outputs": [],
   "source": [
    "page3= driver.find_element_by_xpath(\"//a[@class='_3fVaIS'][2]\").click()"
   ]
  },
  {
   "cell_type": "code",
   "execution_count": 69,
   "metadata": {},
   "outputs": [
    {
     "data": {
      "text/plain": [
       "20"
      ]
     },
     "execution_count": 69,
     "metadata": {},
     "output_type": "execute_result"
    }
   ],
   "source": [
    "image3=driver.find_elements_by_xpath(\"//img[@class='_3togXc']\")\n",
    "image3=image3[0:20]\n",
    "len(image3)"
   ]
  },
  {
   "cell_type": "code",
   "execution_count": 70,
   "metadata": {},
   "outputs": [
    {
     "name": "stdout",
     "output_type": "stream",
     "text": [
      "https://rukminim1.flixcart.com/image/329/395/jmthle80/jean/k/8/m/46-blaze-darkgreen-studio-nexx-original-imaf9n3kr7gs5jzy.jpeg?q=50\n",
      "https://rukminim1.flixcart.com/image/329/395/k3g73bk0/jean/j/j/5/36-hljn001090-highlander-original-imafmkvbx2hvxvrv.jpeg?q=50\n",
      "https://rukminim1.flixcart.com/image/329/395/jsge4cw0/jean/y/a/h/30-hpsjogger-lblue-urbano-fashion-original-imafey94zufwg2eh.jpeg?q=50\n",
      "https://rukminim1.flixcart.com/image/329/395/k70spzk0/jean/m/z/w/30-hljn000722-highlander-original-imafpchx9c72gz3u.jpeg?q=50\n",
      "https://rukminim1.flixcart.com/image/329/395/k226oi80/jean/b/r/7/36-combo-one-button-ice-black-tyffyn-original-imafgbkjppkgh95d.jpeg?q=50\n",
      "https://rukminim1.flixcart.com/image/329/395/jw0zr0w0/jean/m/h/h/30-jns-ltblu-5th-anfold-original-imafgrrtvpennakz.jpeg?q=50\n",
      "https://rukminim1.flixcart.com/image/329/395/jihqljk0/jean/t/k/u/32-nse-2-snaave-original-imaf66ydth9mxgk5.jpeg?q=50\n",
      "https://rukminim1.flixcart.com/image/329/395/k73nlow0/jean/j/r/g/32-84444-0000-levi-s-original-imafpegdfghgq6gy.jpeg?q=50\n",
      "https://rukminim1.flixcart.com/image/329/395/k0zlsi80/jean/a/n/w/28-jeanstripebwr-white-urbano-fashion-original-imafknv4mpb5nfgh.jpeg?q=50\n",
      "https://rukminim1.flixcart.com/image/329/395/k7xnukw0/jean/z/k/b/34-virinder-styzon-original-imafqfz3ewpvkfyu.jpeg?q=50\n",
      "https://rukminim1.flixcart.com/image/329/395/jq8dgnk0/jean/m/k/b/34-kk2-uniqq-original-imaf7wu9xmhfg28f.jpeg?q=50\n",
      "https://rukminim1.flixcart.com/image/329/395/jsw3yq80/jean/j/c/c/32-mss19ajn020-metronaut-original-imafede5zhvgchsk.jpeg?q=50\n",
      "https://rukminim1.flixcart.com/image/329/395/jrgo4280/jean/s/b/g/32-hdb-uniqq-original-imaf7xy4vrsqgpey.jpeg?q=50\n",
      "https://rukminim1.flixcart.com/image/329/395/jtq47m80/jean/r/h/n/32-mss19ajn014-metronaut-original-imaffyatrzfqawew.jpeg?q=50\n",
      "https://rukminim1.flixcart.com/image/329/395/j1nvwcw0/jean/x/m/h/28-bmw-bm-3-dblue-ben-martin-original-imaet5pfwkbtzbju.jpeg?q=50\n",
      "https://rukminim1.flixcart.com/image/329/395/ji3g70w0/jean/8/k/z/32-65504-0356-levi-s-original-imaf5r9hyydgcfdt.jpeg?q=50\n",
      "https://rukminim1.flixcart.com/image/329/395/k0zlsi80/jean/5/r/y/32-maw19jn140-metronaut-original-imafkmgsnzbhrqpw.jpeg?q=50\n",
      "https://rukminim1.flixcart.com/image/329/395/k70spzk0/jean/c/j/8/30-hljn000825-highlander-original-imafpchyncexdz3w.jpeg?q=50\n",
      "https://rukminim1.flixcart.com/image/329/395/jy7kyvk0/jean/x/r/t/34-lj3306-lzard-original-imafggrgz3cwh8my.jpeg?q=50\n",
      "https://rukminim1.flixcart.com/image/329/395/jtn9bww0/jean/y/g/h/32-18298-0572-levi-s-original-imafeyhbcvbtfcqy.jpeg?q=50\n"
     ]
    }
   ],
   "source": [
    "url3=[]\n",
    "for image in image3:\n",
    "    source3=image.get_attribute('src')\n",
    "    url3.append(source3)\n",
    "    print(source3)"
   ]
  },
  {
   "cell_type": "code",
   "execution_count": 74,
   "metadata": {},
   "outputs": [
    {
     "name": "stdout",
     "output_type": "stream",
     "text": [
      "downloading image 1 of 20 from page 3\n",
      "downloading image 2 of 20 from page 3\n",
      "downloading image 3 of 20 from page 3\n",
      "downloading image 4 of 20 from page 3\n",
      "downloading image 5 of 20 from page 3\n",
      "downloading image 6 of 20 from page 3\n",
      "downloading image 7 of 20 from page 3\n",
      "downloading image 8 of 20 from page 3\n",
      "downloading image 9 of 20 from page 3\n",
      "downloading image 10 of 20 from page 3\n",
      "downloading image 11 of 20 from page 3\n",
      "downloading image 12 of 20 from page 3\n",
      "downloading image 13 of 20 from page 3\n",
      "downloading image 14 of 20 from page 3\n",
      "downloading image 15 of 20 from page 3\n",
      "downloading image 16 of 20 from page 3\n",
      "downloading image 17 of 20 from page 3\n",
      "downloading image 18 of 20 from page 3\n",
      "downloading image 19 of 20 from page 3\n",
      "downloading image 20 of 20 from page 3\n"
     ]
    }
   ],
   "source": [
    "page=3\n",
    "for index, link3 in enumerate(url3):\n",
    "    print('downloading image {} of {} from page 3'.format(index+1,len(url3)))\n",
    "    response3=requests.get(link3)\n",
    "    with open(r'P:\\jay\\fliprobo\\web scrap\\jeans\\img {}{}.jpeg'.format(index+1,page),'wb')as file:\n",
    "        file.write(response3.content)"
   ]
  },
  {
   "cell_type": "code",
   "execution_count": null,
   "metadata": {},
   "outputs": [],
   "source": []
  }
 ],
 "metadata": {
  "kernelspec": {
   "display_name": "Python 3",
   "language": "python",
   "name": "python3"
  },
  "language_info": {
   "codemirror_mode": {
    "name": "ipython",
    "version": 3
   },
   "file_extension": ".py",
   "mimetype": "text/x-python",
   "name": "python",
   "nbconvert_exporter": "python",
   "pygments_lexer": "ipython3",
   "version": "3.7.4"
  }
 },
 "nbformat": 4,
 "nbformat_minor": 2
}
