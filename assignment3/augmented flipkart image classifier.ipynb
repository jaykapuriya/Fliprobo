{
 "cells": [
  {
   "cell_type": "code",
   "execution_count": 102,
   "metadata": {},
   "outputs": [],
   "source": [
    "import os\n",
    "import cv2\n",
    "import numpy as np"
   ]
  },
  {
   "cell_type": "markdown",
   "metadata": {},
   "source": [
    "jeans_augmentation"
   ]
  },
  {
   "cell_type": "code",
   "execution_count": 103,
   "metadata": {},
   "outputs": [
    {
     "name": "stdout",
     "output_type": "stream",
     "text": [
      "80\n"
     ]
    }
   ],
   "source": [
    "import glob\n",
    "files=glob.glob(r'P:\\jay\\fliprobo\\web scrap\\jeansvstrousers\\train\\jeans\\*')\n",
    "print(len(files))"
   ]
  },
  {
   "cell_type": "markdown",
   "metadata": {},
   "source": [
    "jeans_augmented_folder"
   ]
  },
  {
   "cell_type": "code",
   "execution_count": 104,
   "metadata": {},
   "outputs": [],
   "source": [
    "cpath=r'P:\\jay\\fliprobo\\web scrap'\n",
    "dir_name='jeans augmented'\n",
    "path=os.path.join(cpath,dir_name)\n",
    "if not os.path.exists(path):\n",
    "    os.makedirs(path)"
   ]
  },
  {
   "cell_type": "code",
   "execution_count": 105,
   "metadata": {},
   "outputs": [],
   "source": [
    "os.getcwd()\n",
    "cdir=r'P:\\jay\\fliprobo\\assignment3\\jeans augmented'\n",
    "os.chdir(cdir)"
   ]
  },
  {
   "cell_type": "markdown",
   "metadata": {},
   "source": [
    "jeans_rotation "
   ]
  },
  {
   "cell_type": "code",
   "execution_count": 106,
   "metadata": {},
   "outputs": [],
   "source": [
    "i=30\n",
    "j=0\n",
    "a=False\n",
    "for file in files: \n",
    "    \n",
    "    img=cv2.imread(file)\n",
    "    h,w,c=img.shape\n",
    "    rm=cv2.getRotationMatrix2D((w/2,h/2),i,0.5)\n",
    "    j=j+1\n",
    "    if i<-30 and a==False:\n",
    "        i=i-1\n",
    "    elif i==-30:\n",
    "        a=True\n",
    "        i=i+1\n",
    "    elif i!=30 and a==True:\n",
    "        i=i+1\n",
    "    elif i==30 and a==True:\n",
    "        a=False   \n",
    "        i=i-1\n",
    "    else:\n",
    "        i=i-1\n",
    "    rotation=cv2.warpAffine(img,rm,(w,h))   \n",
    "    mask = np.zeros([h + 2, w + 2], np.uint8)\n",
    "    result = rotation.copy()\n",
    "    cv2.floodFill(result, mask, (0,0), (255,255,255), (3,151,65), (3,151,65), flags=8)\n",
    "    cv2.imwrite('R{}.jpg'.format(j),result)"
   ]
  },
  {
   "cell_type": "markdown",
   "metadata": {},
   "source": [
    "jeans_brightness(increase & decrease)"
   ]
  },
  {
   "cell_type": "code",
   "execution_count": 107,
   "metadata": {},
   "outputs": [],
   "source": [
    "n=10\n",
    "j=0\n",
    "for file in files: \n",
    "    img=cv2.imread(file)\n",
    "    h,w,c=img.shape\n",
    "    j=j+1\n",
    "    one=np.ones(img.shape,dtype='uint8')*n\n",
    "    if n==80:\n",
    "        n=10 \n",
    "    else: \n",
    "        n=n+5\n",
    "    add=cv2.add(img,one)\n",
    "    substract=cv2.subtract(img,one)\n",
    "    result1 = add.copy()\n",
    "    result2=substract.copy()\n",
    "    mask = np.zeros([h + 2, w + 2], np.uint8)\n",
    "    cv2.floodFill(result1, mask, (0,0), (255,255,255), (3,151,65), (3,151,65), flags=8)\n",
    "    cv2.floodFill(result2, mask, (0,0), (255,255,255), (3,151,65), (3,151,65), flags=8)\n",
    "    cv2.imwrite('IB{}.jpg'.format(j),result1)\n",
    "    cv2.imwrite('DB{}.jpg'.format(j),result2)"
   ]
  },
  {
   "cell_type": "markdown",
   "metadata": {},
   "source": [
    "jeans_sharpping"
   ]
  },
  {
   "cell_type": "code",
   "execution_count": 108,
   "metadata": {},
   "outputs": [],
   "source": [
    "j=0\n",
    "for file in files: \n",
    "    img=cv2.imread(file)\n",
    "    h,w,c=img.shape\n",
    "    j=j+1\n",
    "    sharpping=np.array([[-1,-1,-1],[-1,9,-1],[-1,-1,-1]])\n",
    "    sharp=cv2.filter2D(img,-1,sharpping)\n",
    "    result=sharp.copy()\n",
    "    mask = np.zeros([h + 2, w + 2], np.uint8)\n",
    "    cv2.floodFill(result, mask, (0,0), (255,255,255), (3,151,65), (3,151,65), flags=8)\n",
    "    cv2.imwrite('S{}.jpg'.format(j),result)"
   ]
  },
  {
   "cell_type": "markdown",
   "metadata": {},
   "source": [
    "jeans_flip"
   ]
  },
  {
   "cell_type": "code",
   "execution_count": 109,
   "metadata": {},
   "outputs": [],
   "source": [
    "j=0\n",
    "for file in files: \n",
    "    img=cv2.imread(file)\n",
    "    h,w,c=img.shape\n",
    "    j=j+1\n",
    "    flip=cv2.flip(img,1)\n",
    "    result=flip.copy()\n",
    "    mask = np.zeros([h + 2, w + 2], np.uint8)\n",
    "    cv2.floodFill(result, mask, (0,0), (255,255,255), (3,151,65), (3,151,65), flags=8)\n",
    "    cv2.imwrite('F{}.jpg'.format(j),result)"
   ]
  },
  {
   "cell_type": "markdown",
   "metadata": {},
   "source": [
    "jeans_orginal"
   ]
  },
  {
   "cell_type": "code",
   "execution_count": 110,
   "metadata": {},
   "outputs": [],
   "source": [
    "j=0\n",
    "for file in files:\n",
    "    j=j+1\n",
    "    img=cv2.imread(file)\n",
    "    cv2.imwrite('O{}.jpg'.format(j),img)"
   ]
  },
  {
   "cell_type": "markdown",
   "metadata": {},
   "source": [
    "trousers_augmentation"
   ]
  },
  {
   "cell_type": "code",
   "execution_count": 111,
   "metadata": {},
   "outputs": [
    {
     "name": "stdout",
     "output_type": "stream",
     "text": [
      "80\n"
     ]
    }
   ],
   "source": [
    "files1=glob.glob(r'P:\\jay\\fliprobo\\web scrap\\jeansvstrousers\\train\\trousers\\*')\n",
    "print(len(files1))"
   ]
  },
  {
   "cell_type": "markdown",
   "metadata": {},
   "source": [
    "trousers_augmented_folder"
   ]
  },
  {
   "cell_type": "code",
   "execution_count": 112,
   "metadata": {},
   "outputs": [],
   "source": [
    "os.getcwd()\n",
    "cdir=r'P:\\jay\\fliprobo\\assignment3\\trousers augmented'\n",
    "os.chdir(cdir)"
   ]
  },
  {
   "cell_type": "code",
   "execution_count": 113,
   "metadata": {},
   "outputs": [],
   "source": [
    "cpath=r'P:\\jay\\fliprobo\\assignment3'\n",
    "dir_name='trousers augmented'\n",
    "path=os.path.join(cpath,dir_name)\n",
    "if not os.path.exists(path):\n",
    "    os.makedirs(path)"
   ]
  },
  {
   "cell_type": "code",
   "execution_count": 114,
   "metadata": {},
   "outputs": [
    {
     "name": "stdout",
     "output_type": "stream",
     "text": [
      "80\n"
     ]
    }
   ],
   "source": [
    "filest=glob.glob(r'P:\\jay\\fliprobo\\web scrap\\jeansvstrousers\\train\\trousers\\*')\n",
    "print(len(filest))"
   ]
  },
  {
   "cell_type": "markdown",
   "metadata": {},
   "source": [
    "trouser_rotation"
   ]
  },
  {
   "cell_type": "code",
   "execution_count": 115,
   "metadata": {},
   "outputs": [],
   "source": [
    "i=30\n",
    "j=0\n",
    "a=False\n",
    "for file in filest: \n",
    "    \n",
    "    img=cv2.imread(file)\n",
    "    h,w,c=img.shape\n",
    "    rm=cv2.getRotationMatrix2D((w/2,h/2),i,0.5)\n",
    "    j=j+1\n",
    "    if i<-30 and a==False:\n",
    "        i=i-1\n",
    "    elif i==-30:\n",
    "        a=True\n",
    "        i=i+1\n",
    "    elif i!=30 and a==True:\n",
    "        i=i+1\n",
    "    elif i==30 and a==True:\n",
    "        a=False   \n",
    "        i=i-1\n",
    "    else:\n",
    "        i=i-1\n",
    "    rotation=cv2.warpAffine(img,rm,(w,h))   \n",
    "    mask = np.zeros([h + 2, w + 2], np.uint8)\n",
    "    result = rotation.copy()\n",
    "    cv2.floodFill(result, mask, (0,0), (255,255,255), (3,151,65), (3,151,65), flags=8)\n",
    "    cv2.imwrite('R{}.jpg'.format(j),result)"
   ]
  },
  {
   "cell_type": "markdown",
   "metadata": {},
   "source": [
    "trouser_brightness(increase & Decrease)"
   ]
  },
  {
   "cell_type": "code",
   "execution_count": 116,
   "metadata": {},
   "outputs": [],
   "source": [
    "n=10\n",
    "j=0\n",
    "for file in filest: \n",
    "    img=cv2.imread(file)\n",
    "    h,w,c=img.shape\n",
    "    j=j+1\n",
    "    one=np.ones(img.shape,dtype='uint8')*n\n",
    "    if n==80:\n",
    "        n=10 \n",
    "    else: \n",
    "        n=n+5\n",
    "    add=cv2.add(img,one)\n",
    "    substract=cv2.subtract(img,one)\n",
    "    result1 = add.copy()\n",
    "    result2=substract.copy()\n",
    "    mask = np.zeros([h + 2, w + 2], np.uint8)\n",
    "    cv2.floodFill(result1, mask, (0,0), (255,255,255), (3,151,65), (3,151,65), flags=8)\n",
    "    cv2.floodFill(result2, mask, (0,0), (255,255,255), (3,151,65), (3,151,65), flags=8)\n",
    "    cv2.imwrite('IB{}.jpg'.format(j),result1)\n",
    "    cv2.imwrite('DB{}.jpg'.format(j),result2)"
   ]
  },
  {
   "cell_type": "markdown",
   "metadata": {},
   "source": [
    "trouser_sharpning"
   ]
  },
  {
   "cell_type": "code",
   "execution_count": 117,
   "metadata": {},
   "outputs": [],
   "source": [
    "j=0\n",
    "for file in filest: \n",
    "    img=cv2.imread(file)\n",
    "    h,w,c=img.shape\n",
    "    j=j+1\n",
    "    sharpping=np.array([[-1,-1,-1],[-1,9,-1],[-1,-1,-1]])\n",
    "    sharp=cv2.filter2D(img,-1,sharpping)\n",
    "    result=sharp.copy()\n",
    "    mask = np.zeros([h + 2, w + 2], np.uint8)\n",
    "    cv2.floodFill(result, mask, (0,0), (255,255,255), (3,151,65), (3,151,65), flags=8)\n",
    "    cv2.imwrite('S{}.jpg'.format(j),result)"
   ]
  },
  {
   "cell_type": "markdown",
   "metadata": {},
   "source": [
    "trouser_flip"
   ]
  },
  {
   "cell_type": "code",
   "execution_count": 118,
   "metadata": {},
   "outputs": [],
   "source": [
    "j=0\n",
    "for file in filest: \n",
    "    img=cv2.imread(file)\n",
    "    h,w,c=img.shape\n",
    "    j=j+1\n",
    "    flip=cv2.flip(img,1)\n",
    "    result=flip.copy()\n",
    "    mask = np.zeros([h + 2, w + 2], np.uint8)\n",
    "    cv2.floodFill(result, mask, (0,0), (255,255,255), (3,151,65), (3,151,65), flags=8)\n",
    "    cv2.imwrite('F{}.jpg'.format(j),result)"
   ]
  },
  {
   "cell_type": "markdown",
   "metadata": {},
   "source": [
    "trouser_original"
   ]
  },
  {
   "cell_type": "code",
   "execution_count": 119,
   "metadata": {},
   "outputs": [],
   "source": [
    "j=0\n",
    "for file in filest:\n",
    "    j=j+1\n",
    "    img=cv2.imread(file)\n",
    "    cv2.imwrite('O{}.jpg'.format(j),img)"
   ]
  },
  {
   "cell_type": "code",
   "execution_count": 120,
   "metadata": {},
   "outputs": [
    {
     "name": "stdout",
     "output_type": "stream",
     "text": [
      "Requirement already satisfied: keras in c:\\programdata\\anaconda3\\lib\\site-packages (2.4.3)\n",
      "Requirement already satisfied: scipy>=0.14 in c:\\users\\pritesh\\appdata\\roaming\\python\\python37\\site-packages (from keras) (1.4.1)\n",
      "Requirement already satisfied: pyyaml in c:\\programdata\\anaconda3\\lib\\site-packages (from keras) (5.1.2)\n",
      "Requirement already satisfied: h5py in c:\\users\\pritesh\\appdata\\roaming\\python\\python37\\site-packages (from keras) (2.10.0)\n",
      "Requirement already satisfied: numpy>=1.9.1 in c:\\programdata\\anaconda3\\lib\\site-packages (from keras) (1.16.5)\n",
      "Requirement already satisfied: six in c:\\programdata\\anaconda3\\lib\\site-packages (from h5py->keras) (1.12.0)\n",
      "Requirement already satisfied: tensorflow in c:\\users\\pritesh\\appdata\\roaming\\python\\python37\\site-packages (2.2.0)\n",
      "Requirement already satisfied: grpcio>=1.8.6 in c:\\users\\pritesh\\appdata\\roaming\\python\\python37\\site-packages (from tensorflow) (1.30.0)\n",
      "Requirement already satisfied: protobuf>=3.8.0 in c:\\programdata\\anaconda3\\lib\\site-packages (from tensorflow) (3.11.0)\n",
      "Requirement already satisfied: google-pasta>=0.1.8 in c:\\users\\pritesh\\appdata\\roaming\\python\\python37\\site-packages (from tensorflow) (0.2.0)\n",
      "Requirement already satisfied: astunparse==1.6.3 in c:\\users\\pritesh\\appdata\\roaming\\python\\python37\\site-packages (from tensorflow) (1.6.3)\n",
      "Requirement already satisfied: six>=1.12.0 in c:\\programdata\\anaconda3\\lib\\site-packages (from tensorflow) (1.12.0)\n",
      "Requirement already satisfied: numpy<2.0,>=1.16.0 in c:\\programdata\\anaconda3\\lib\\site-packages (from tensorflow) (1.16.5)\n",
      "Requirement already satisfied: tensorboard<2.3.0,>=2.2.0 in c:\\users\\pritesh\\appdata\\roaming\\python\\python37\\site-packages (from tensorflow) (2.2.2)\n",
      "Requirement already satisfied: tensorflow-estimator<2.3.0,>=2.2.0 in c:\\users\\pritesh\\appdata\\roaming\\python\\python37\\site-packages (from tensorflow) (2.2.0)\n",
      "Requirement already satisfied: gast==0.3.3 in c:\\users\\pritesh\\appdata\\roaming\\python\\python37\\site-packages (from tensorflow) (0.3.3)\n",
      "Requirement already satisfied: wheel>=0.26; python_version >= \"3\" in c:\\programdata\\anaconda3\\lib\\site-packages (from tensorflow) (0.33.6)\n",
      "Requirement already satisfied: termcolor>=1.1.0 in c:\\users\\pritesh\\appdata\\roaming\\python\\python37\\site-packages (from tensorflow) (1.1.0)\n",
      "Requirement already satisfied: wrapt>=1.11.1 in c:\\programdata\\anaconda3\\lib\\site-packages (from tensorflow) (1.11.2)\n",
      "Requirement already satisfied: scipy==1.4.1; python_version >= \"3\" in c:\\users\\pritesh\\appdata\\roaming\\python\\python37\\site-packages (from tensorflow) (1.4.1)\n",
      "Requirement already satisfied: absl-py>=0.7.0 in c:\\users\\pritesh\\appdata\\roaming\\python\\python37\\site-packages (from tensorflow) (0.9.0)\n",
      "Requirement already satisfied: opt-einsum>=2.3.2 in c:\\users\\pritesh\\appdata\\roaming\\python\\python37\\site-packages (from tensorflow) (3.2.1)\n",
      "Requirement already satisfied: keras-preprocessing>=1.1.0 in c:\\users\\pritesh\\appdata\\roaming\\python\\python37\\site-packages (from tensorflow) (1.1.2)\n",
      "Requirement already satisfied: h5py<2.11.0,>=2.10.0 in c:\\users\\pritesh\\appdata\\roaming\\python\\python37\\site-packages (from tensorflow) (2.10.0)\n",
      "Requirement already satisfied: setuptools in c:\\programdata\\anaconda3\\lib\\site-packages (from protobuf>=3.8.0->tensorflow) (41.4.0)\n",
      "Requirement already satisfied: tensorboard-plugin-wit>=1.6.0 in c:\\users\\pritesh\\appdata\\roaming\\python\\python37\\site-packages (from tensorboard<2.3.0,>=2.2.0->tensorflow) (1.7.0)\n",
      "Requirement already satisfied: markdown>=2.6.8 in c:\\users\\pritesh\\appdata\\roaming\\python\\python37\\site-packages (from tensorboard<2.3.0,>=2.2.0->tensorflow) (3.2.2)\n",
      "Requirement already satisfied: google-auth-oauthlib<0.5,>=0.4.1 in c:\\users\\pritesh\\appdata\\roaming\\python\\python37\\site-packages (from tensorboard<2.3.0,>=2.2.0->tensorflow) (0.4.1)\n",
      "Requirement already satisfied: requests<3,>=2.21.0 in c:\\programdata\\anaconda3\\lib\\site-packages (from tensorboard<2.3.0,>=2.2.0->tensorflow) (2.22.0)\n",
      "Requirement already satisfied: google-auth<2,>=1.6.3 in c:\\users\\pritesh\\appdata\\roaming\\python\\python37\\site-packages (from tensorboard<2.3.0,>=2.2.0->tensorflow) (1.19.1)\n",
      "Requirement already satisfied: werkzeug>=0.11.15 in c:\\programdata\\anaconda3\\lib\\site-packages (from tensorboard<2.3.0,>=2.2.0->tensorflow) (0.16.0)\n",
      "Requirement already satisfied: importlib-metadata; python_version < \"3.8\" in c:\\programdata\\anaconda3\\lib\\site-packages (from markdown>=2.6.8->tensorboard<2.3.0,>=2.2.0->tensorflow) (0.23)\n",
      "Requirement already satisfied: requests-oauthlib>=0.7.0 in c:\\users\\pritesh\\appdata\\roaming\\python\\python37\\site-packages (from google-auth-oauthlib<0.5,>=0.4.1->tensorboard<2.3.0,>=2.2.0->tensorflow) (1.3.0)\n",
      "Requirement already satisfied: certifi>=2017.4.17 in c:\\programdata\\anaconda3\\lib\\site-packages (from requests<3,>=2.21.0->tensorboard<2.3.0,>=2.2.0->tensorflow) (2019.9.11)\n",
      "Requirement already satisfied: urllib3!=1.25.0,!=1.25.1,<1.26,>=1.21.1 in c:\\programdata\\anaconda3\\lib\\site-packages (from requests<3,>=2.21.0->tensorboard<2.3.0,>=2.2.0->tensorflow) (1.24.2)\n",
      "Requirement already satisfied: idna<2.9,>=2.5 in c:\\programdata\\anaconda3\\lib\\site-packages (from requests<3,>=2.21.0->tensorboard<2.3.0,>=2.2.0->tensorflow) (2.8)\n",
      "Requirement already satisfied: chardet<3.1.0,>=3.0.2 in c:\\programdata\\anaconda3\\lib\\site-packages (from requests<3,>=2.21.0->tensorboard<2.3.0,>=2.2.0->tensorflow) (3.0.4)\n",
      "Requirement already satisfied: cachetools<5.0,>=2.0.0 in c:\\users\\pritesh\\appdata\\roaming\\python\\python37\\site-packages (from google-auth<2,>=1.6.3->tensorboard<2.3.0,>=2.2.0->tensorflow) (4.1.1)\n",
      "Requirement already satisfied: pyasn1-modules>=0.2.1 in c:\\users\\pritesh\\appdata\\roaming\\python\\python37\\site-packages (from google-auth<2,>=1.6.3->tensorboard<2.3.0,>=2.2.0->tensorflow) (0.2.8)\n",
      "Requirement already satisfied: rsa<5,>=3.1.4; python_version >= \"3\" in c:\\users\\pritesh\\appdata\\roaming\\python\\python37\\site-packages (from google-auth<2,>=1.6.3->tensorboard<2.3.0,>=2.2.0->tensorflow) (4.6)\n",
      "Requirement already satisfied: zipp>=0.5 in c:\\programdata\\anaconda3\\lib\\site-packages (from importlib-metadata; python_version < \"3.8\"->markdown>=2.6.8->tensorboard<2.3.0,>=2.2.0->tensorflow) (0.6.0)\n",
      "Requirement already satisfied: oauthlib>=3.0.0 in c:\\users\\pritesh\\appdata\\roaming\\python\\python37\\site-packages (from requests-oauthlib>=0.7.0->google-auth-oauthlib<0.5,>=0.4.1->tensorboard<2.3.0,>=2.2.0->tensorflow) (3.1.0)\n",
      "Requirement already satisfied: pyasn1<0.5.0,>=0.4.6 in c:\\users\\pritesh\\appdata\\roaming\\python\\python37\\site-packages (from pyasn1-modules>=0.2.1->google-auth<2,>=1.6.3->tensorboard<2.3.0,>=2.2.0->tensorflow) (0.4.8)\n",
      "Requirement already satisfied: more-itertools in c:\\programdata\\anaconda3\\lib\\site-packages (from zipp>=0.5->importlib-metadata; python_version < \"3.8\"->markdown>=2.6.8->tensorboard<2.3.0,>=2.2.0->tensorflow) (7.2.0)\n"
     ]
    }
   ],
   "source": [
    "!pip install keras\n",
    "!pip install tensorflow\n",
    "import matplotlib.pyplot as plt"
   ]
  },
  {
   "cell_type": "code",
   "execution_count": 121,
   "metadata": {},
   "outputs": [],
   "source": [
    "import keras\n",
    "from keras.models import Sequential\n",
    "from keras.layers import Conv2D,MaxPooling2D,Dense,Flatten,Activation,Dropout,ZeroPadding2D\n",
    "from keras import optimizers\n",
    "from keras.preprocessing.image import ImageDataGenerator"
   ]
  },
  {
   "cell_type": "code",
   "execution_count": 122,
   "metadata": {},
   "outputs": [],
   "source": [
    "import scipy\n",
    "import pylab as pl"
   ]
  },
  {
   "cell_type": "code",
   "execution_count": 135,
   "metadata": {},
   "outputs": [
    {
     "name": "stdout",
     "output_type": "stream",
     "text": [
      "Found 960 images belonging to 2 classes.\n",
      "Found 40 images belonging to 2 classes.\n"
     ]
    }
   ],
   "source": [
    "input_imageshape=(128,128,3)\n",
    "input_width=128\n",
    "input_height=128\n",
    "batch_size=40\n",
    "epochs=20\n",
    "train_sample=960\n",
    "validation_sample=40\n",
    "\n",
    "train_data_dir=r'P:\\jay\\fliprobo\\assignment3\\jeansvstrousers aug\\train'\n",
    "validation_data_dir=r'P:\\jay\\fliprobo\\assignment3\\jeansvstrousers aug\\validation'\n",
    "\n",
    "datagen=ImageDataGenerator(rescale=1/255)\n",
    "\n",
    "train_generator=datagen.flow_from_directory(\n",
    "    train_data_dir, \n",
    "    target_size=(128,128),\n",
    "    color_mode=\"rgb\",\n",
    "    batch_size=40,\n",
    "    class_mode=\"binary\",\n",
    "    shuffle=True,\n",
    "    seed=42)\n",
    "\n",
    "validation_generator=datagen.flow_from_directory(\n",
    "   validation_data_dir,\n",
    "    target_size=(128,128),\n",
    "    color_mode='rgb',\n",
    "    batch_size=40,\n",
    "    class_mode=\"binary\",\n",
    "    shuffle=True,\n",
    "    seed=42)\n"
   ]
  },
  {
   "cell_type": "code",
   "execution_count": 136,
   "metadata": {},
   "outputs": [
    {
     "name": "stdout",
     "output_type": "stream",
     "text": [
      "Model: \"sequential_18\"\n",
      "_________________________________________________________________\n",
      "Layer (type)                 Output Shape              Param #   \n",
      "=================================================================\n",
      "conv2d_57 (Conv2D)           (None, 126, 126, 32)      896       \n",
      "_________________________________________________________________\n",
      "max_pooling2d_39 (MaxPooling (None, 63, 63, 32)        0         \n",
      "_________________________________________________________________\n",
      "dropout_69 (Dropout)         (None, 63, 63, 32)        0         \n",
      "_________________________________________________________________\n",
      "conv2d_58 (Conv2D)           (None, 61, 61, 64)        18496     \n",
      "_________________________________________________________________\n",
      "max_pooling2d_40 (MaxPooling (None, 30, 30, 64)        0         \n",
      "_________________________________________________________________\n",
      "dropout_70 (Dropout)         (None, 30, 30, 64)        0         \n",
      "_________________________________________________________________\n",
      "conv2d_59 (Conv2D)           (None, 28, 28, 64)        36928     \n",
      "_________________________________________________________________\n",
      "max_pooling2d_41 (MaxPooling (None, 14, 14, 64)        0         \n",
      "_________________________________________________________________\n",
      "dropout_71 (Dropout)         (None, 14, 14, 64)        0         \n",
      "_________________________________________________________________\n",
      "conv2d_60 (Conv2D)           (None, 12, 12, 32)        18464     \n",
      "_________________________________________________________________\n",
      "max_pooling2d_42 (MaxPooling (None, 6, 6, 32)          0         \n",
      "_________________________________________________________________\n",
      "dropout_72 (Dropout)         (None, 6, 6, 32)          0         \n",
      "_________________________________________________________________\n",
      "flatten_18 (Flatten)         (None, 1152)              0         \n",
      "_________________________________________________________________\n",
      "dense_36 (Dense)             (None, 128)               147584    \n",
      "_________________________________________________________________\n",
      "dropout_73 (Dropout)         (None, 128)               0         \n",
      "_________________________________________________________________\n",
      "dense_37 (Dense)             (None, 1)                 129       \n",
      "=================================================================\n",
      "Total params: 222,497\n",
      "Trainable params: 222,497\n",
      "Non-trainable params: 0\n",
      "_________________________________________________________________\n",
      "None\n"
     ]
    }
   ],
   "source": [
    "model=Sequential()\n",
    "model.add(Conv2D(32,(3,3),activation='relu',input_shape=input_imageshape))\n",
    "model.add(MaxPooling2D(pool_size=(2,2)))\n",
    "model.add(Dropout(0.25))\n",
    "model.add(Conv2D(64,(3,3),activation='relu'))\n",
    "model.add(MaxPooling2D(pool_size=(2,2)))\n",
    "model.add(Dropout(0.25))\n",
    "model.add(Conv2D(64,(3,3),activation='relu'))\n",
    "model.add(MaxPooling2D(pool_size=(2,2)))\n",
    "model.add(Dropout(0.25))\n",
    "model.add(Conv2D(32,(3,3),activation='relu'))\n",
    "model.add(MaxPooling2D(pool_size=(2,2)))\n",
    "model.add(Dropout(0.25))\n",
    "model.add(Flatten())\n",
    "model.add(Dense(128,activation='relu'))\n",
    "model.add(Dropout(0.5))\n",
    "model.add(Dense(1,activation='sigmoid'))\n",
    "model.compile(loss='binary_crossentropy',optimizer='rmsprop',metrics=['accuracy'])\n",
    "print(model.summary())"
   ]
  },
  {
   "cell_type": "code",
   "execution_count": 137,
   "metadata": {},
   "outputs": [
    {
     "name": "stdout",
     "output_type": "stream",
     "text": [
      "Epoch 1/20\n",
      "24/24 [==============================] - 22s 912ms/step - loss: 0.7184 - accuracy: 0.4833 - val_loss: 0.6925 - val_accuracy: 0.4750\n",
      "Epoch 2/20\n",
      "24/24 [==============================] - 25s 1s/step - loss: 0.6953 - accuracy: 0.5063 - val_loss: 0.6770 - val_accuracy: 0.5500\n",
      "Epoch 3/20\n",
      "24/24 [==============================] - 25s 1s/step - loss: 0.6628 - accuracy: 0.6062 - val_loss: 0.6773 - val_accuracy: 0.5500\n",
      "Epoch 4/20\n",
      "24/24 [==============================] - 25s 1s/step - loss: 0.5930 - accuracy: 0.7156 - val_loss: 0.5928 - val_accuracy: 0.7000\n",
      "Epoch 5/20\n",
      "24/24 [==============================] - 25s 1s/step - loss: 0.5991 - accuracy: 0.6969 - val_loss: 0.5592 - val_accuracy: 0.7750\n",
      "Epoch 6/20\n",
      "24/24 [==============================] - 25s 1s/step - loss: 0.5013 - accuracy: 0.7635 - val_loss: 0.4619 - val_accuracy: 0.8000\n",
      "Epoch 7/20\n",
      "24/24 [==============================] - 25s 1s/step - loss: 0.4965 - accuracy: 0.7594 - val_loss: 0.4991 - val_accuracy: 0.7500\n",
      "Epoch 8/20\n",
      "24/24 [==============================] - 25s 1s/step - loss: 0.4723 - accuracy: 0.7833 - val_loss: 0.4256 - val_accuracy: 0.7750\n",
      "Epoch 9/20\n",
      "24/24 [==============================] - 25s 1s/step - loss: 0.4587 - accuracy: 0.8010 - val_loss: 0.3975 - val_accuracy: 0.8000\n",
      "Epoch 10/20\n",
      "24/24 [==============================] - 25s 1s/step - loss: 0.4216 - accuracy: 0.8073 - val_loss: 0.5486 - val_accuracy: 0.7000\n",
      "Epoch 11/20\n",
      "24/24 [==============================] - 25s 1s/step - loss: 0.4021 - accuracy: 0.8219 - val_loss: 0.3550 - val_accuracy: 0.8500\n",
      "Epoch 12/20\n",
      "24/24 [==============================] - 26s 1s/step - loss: 0.3703 - accuracy: 0.8365 - val_loss: 0.5225 - val_accuracy: 0.8750\n",
      "Epoch 13/20\n",
      "24/24 [==============================] - 25s 1s/step - loss: 0.3679 - accuracy: 0.8396 - val_loss: 0.4624 - val_accuracy: 0.7750\n",
      "Epoch 14/20\n",
      "24/24 [==============================] - 25s 1s/step - loss: 0.3540 - accuracy: 0.8438 - val_loss: 0.4076 - val_accuracy: 0.8000\n",
      "Epoch 15/20\n",
      "24/24 [==============================] - 25s 1s/step - loss: 0.3236 - accuracy: 0.8656 - val_loss: 0.4976 - val_accuracy: 0.8000\n",
      "Epoch 16/20\n",
      "24/24 [==============================] - 25s 1s/step - loss: 0.3130 - accuracy: 0.8604 - val_loss: 0.4437 - val_accuracy: 0.8250\n",
      "Epoch 17/20\n",
      "24/24 [==============================] - 25s 1s/step - loss: 0.2699 - accuracy: 0.8896 - val_loss: 0.5098 - val_accuracy: 0.8000\n",
      "Epoch 18/20\n",
      "24/24 [==============================] - 25s 1s/step - loss: 0.2739 - accuracy: 0.8948 - val_loss: 0.3866 - val_accuracy: 0.9000\n",
      "Epoch 19/20\n",
      "24/24 [==============================] - 27s 1s/step - loss: 0.2470 - accuracy: 0.8990 - val_loss: 0.4502 - val_accuracy: 0.8500\n",
      "Epoch 20/20\n",
      "24/24 [==============================] - 28s 1s/step - loss: 0.2456 - accuracy: 0.8948 - val_loss: 0.3997 - val_accuracy: 0.8750\n"
     ]
    }
   ],
   "source": [
    "history=model.fit_generator(\n",
    "    train_generator,\n",
    "    steps_per_epoch= 960 // batch_size,\n",
    "    epochs=epochs,\n",
    "    validation_data=validation_generator,\n",
    "    validation_steps= 40 // batch_size)"
   ]
  },
  {
   "cell_type": "code",
   "execution_count": 138,
   "metadata": {},
   "outputs": [
    {
     "name": "stdout",
     "output_type": "stream",
     "text": [
      "WARNING:tensorflow:From C:\\Users\\Pritesh\\AppData\\Roaming\\Python\\Python37\\site-packages\\tensorflow\\python\\ops\\resource_variable_ops.py:1817: calling BaseResourceVariable.__init__ (from tensorflow.python.ops.resource_variable_ops) with constraint is deprecated and will be removed in a future version.\n",
      "Instructions for updating:\n",
      "If using Keras pass *_constraint arguments to layers.\n",
      "INFO:tensorflow:Assets written to: flikart augmented image classifier 20E\\assets\n"
     ]
    }
   ],
   "source": [
    "model.save('flikart augmented image classifier 20E')"
   ]
  },
  {
   "cell_type": "code",
   "execution_count": 142,
   "metadata": {},
   "outputs": [],
   "source": [
    "history_dict=history.history"
   ]
  },
  {
   "cell_type": "code",
   "execution_count": 145,
   "metadata": {},
   "outputs": [
    {
     "data": {
      "image/png": "[encoded data removed]",
      "text/plain": [
       "<Figure size 432x288 with 1 Axes>"
      ]
     },
     "metadata": {
      "needs_background": "light"
     },
     "output_type": "display_data"
    }
   ],
   "source": [
    "loss_values=history_dict['loss']\n",
    "val_loss_values=history_dict['val_loss']\n",
    "epochs=range(1,21)\n",
    "line1=plt.plot(epochs,val_loss_values,label='validation/test loss')\n",
    "line2=plt.plot(epochs,loss_values, label='training loss')\n",
    "plt.setp(line1,linewidth=1,marker='2',markersize=10)\n",
    "plt.setp(line2,linewidth=1,marker='2',markersize=10)\n",
    "plt.xlabel('Epoch')\n",
    "plt.ylabel('Loss')\n",
    "plt.grid(True)\n",
    "plt.legend()\n",
    "plt.show()"
   ]
  },
  {
   "cell_type": "code",
   "execution_count": 148,
   "metadata": {},
   "outputs": [
    {
     "data": {
      "image/png": "[encoded data removed]",
      "text/plain": [
       "<Figure size 432x288 with 1 Axes>"
      ]
     },
     "metadata": {
      "needs_background": "light"
     },
     "output_type": "display_data"
    }
   ],
   "source": [
    "accu_values=history_dict['accuracy']\n",
    "val_accu_values=history_dict['val_accuracy']\n",
    "epochs=range(1,21)\n",
    "line1=plt.plot(epochs,val_accu_values,label='validation/test accuracy')\n",
    "line2=plt.plot(epochs,accu_values, label='training accuracy')\n",
    "plt.setp(line1,linewidth=1,marker='2',markersize=10)\n",
    "plt.setp(line2,linewidth=1,marker='2',markersize=10)\n",
    "plt.xlabel('Epoch')\n",
    "plt.ylabel('Accuracy')\n",
    "plt.grid(True)\n",
    "plt.legend()\n",
    "plt.show()"
   ]
  },
  {
   "cell_type": "code",
   "execution_count": null,
   "metadata": {},
   "outputs": [],
   "source": []
  }
 ],
 "metadata": {
  "kernelspec": {
   "display_name": "Python 3",
   "language": "python",
   "name": "python3"
  },
  "language_info": {
   "codemirror_mode": {
    "name": "ipython",
    "version": 3
   },
   "file_extension": ".py",
   "mimetype": "text/x-python",
   "name": "python",
   "nbconvert_exporter": "python",
   "pygments_lexer": "ipython3",
   "version": "3.7.4"
  }
 },
 "nbformat": 4,
 "nbformat_minor": 2
}
