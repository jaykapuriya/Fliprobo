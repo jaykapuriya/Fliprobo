{
 "cells": [
  {
   "cell_type": "code",
   "execution_count": 1,
   "metadata": {},
   "outputs": [
    {
     "name": "stdout",
     "output_type": "stream",
     "text": [
      "Requirement already satisfied: selenium in c:\\programdata\\anaconda3\\lib\\site-packages (3.141.0)\n",
      "Requirement already satisfied: urllib3 in c:\\programdata\\anaconda3\\lib\\site-packages (from selenium) (1.24.2)\n"
     ]
    }
   ],
   "source": [
    "!pip install selenium\n",
    "from selenium import webdriver"
   ]
  },
  {
   "cell_type": "code",
   "execution_count": 2,
   "metadata": {},
   "outputs": [],
   "source": [
    "driver=webdriver.Chrome(r'C:\\Users\\Pritesh\\.anaconda\\navigator\\scripts\\chromedriver.exe')\n",
    "driver.get('https://www.flipkart.com/search?q=trouser&sid=clo%2Cvua%2Cmle%2Clhk&as=on&as-show=on&otracker=AS_QueryStore_OrganicAutoSuggest_1_7_na_na_na&otracker1=AS_QueryStore_OrganicAutoSuggest_1_7_na_na_na&as-pos=1&as-type=HISTORY&suggestionId=trouser%7CMen%27s+Trousers&requestId=3bc17aa6-684e-4559-8232-a464f5945802&as-searchtext=tousers')"
   ]
  },
  {
   "cell_type": "code",
   "execution_count": 3,
   "metadata": {},
   "outputs": [],
   "source": [
    "import os\n",
    "current_path=(r'P:\\jay\\fliprobo\\web scrap')\n",
    "dir_name=('trousers')\n",
    "path=os.path.join(current_path,dir_name)\n",
    "if not os.path.exists(path):\n",
    "    os.makedirs(path)"
   ]
  },
  {
   "cell_type": "code",
   "execution_count": 4,
   "metadata": {},
   "outputs": [],
   "source": [
    "images=driver.find_elements_by_xpath(\"//img[@class='_3togXc']\")"
   ]
  },
  {
   "cell_type": "code",
   "execution_count": 5,
   "metadata": {},
   "outputs": [
    {
     "name": "stdout",
     "output_type": "stream",
     "text": [
      "https://rukminim1.flixcart.com/image/329/395/k6s82vk0/trouser/4/z/k/32-putfusspw77086-peter-england-university-original-imafpyk2enuevmzh.jpeg?q=50\n",
      "https://rukminim1.flixcart.com/image/329/395/k6l2vm80/trouser/p/c/a/32-pmtq05840-b9-park-avenue-original-imafngr53cszhbk9.jpeg?q=50\n",
      "https://rukminim1.flixcart.com/image/329/395/jt4olu80/trouser/e/t/5/36-jogger-green-plus91-original-imafek22njetaexx.jpeg?q=50\n",
      "https://rukminim1.flixcart.com/image/329/395/kazor680/trouser/q/r/c/34-packof2-baleno-green-sgrey-aa-ad-av-original-imafsgynkdvkfga4.jpeg?q=50\n",
      "https://rukminim1.flixcart.com/image/329/395/k70spzk0/trouser/m/z/y/30-hltr003897-highlander-original-imafpchqyhedsn4k.jpeg?q=50\n",
      "https://rukminim1.flixcart.com/image/329/395/k70spzk0/trouser/j/g/r/30-hltr003780-highlander-original-imafpchtherhbwhx.jpeg?q=50\n",
      "https://rukminim1.flixcart.com/image/329/395/k70spzk0/trouser/x/z/6/30-hltr003912-highlander-original-imafpchtyjzcyfcy.jpeg?q=50\n",
      "https://rukminim1.flixcart.com/image/329/395/k6nxrbk0/trouser/y/u/f/28-kctr-5555-crm-fubar-original-imafp2j6pdqymytg.jpeg?q=50\n",
      "https://rukminim1.flixcart.com/image/329/395/trouser/r/6/a/40-blackbelano-aa-ad-av-original-imaeqbhmgqwphbqb.jpeg?q=50\n",
      "https://rukminim1.flixcart.com/image/329/395/k70spzk0/trouser/9/2/q/30-hltr003863-highlander-original-imafpchtbd7yzysx.jpeg?q=50\n",
      "https://rukminim1.flixcart.com/image/329/395/jxqfonk0/trouser/k/w/z/28-bmw-cotton-trs-ben-martin-original-imafhh8yv8aybb2c.jpeg?q=50\n",
      "https://rukminim1.flixcart.com/image/329/395/k70spzk0/trouser/n/t/j/30-hltr003861-highlander-original-imafpchtpkukhuy7.jpeg?q=50\n",
      "https://rukminim1.flixcart.com/image/329/395/k3t21zk0/trouser/e/h/d/36-kctr-5555-bk-fubar-original-imafmuzabfsh5yzp.jpeg?q=50\n",
      "https://rukminim1.flixcart.com/image/329/395/k7285u80/trouser/6/z/d/32-mss20ftr009e-metronaut-original-imafpdyb6fy7qvhm.jpeg?q=50\n",
      "https://rukminim1.flixcart.com/image/329/395/jvwpfgw0/trouser/e/w/k/30-t-130-trouser-baleno-black-aa-ad-av-original-imafgm8ytr4c7yez.jpeg?q=50\n",
      "https://rukminim1.flixcart.com/image/329/395/k70spzk0/trouser/m/k/c/30-hltr003862-highlander-original-imafpcht4d48ngmc.jpeg?q=50\n",
      "https://rukminim1.flixcart.com/image/329/395/kb2jmvk0/trouser/r/z/q/32-packof2-baleno-green-coffi-aa-ad-av-original-imafsg27kryrhzu9.jpeg?q=50\n",
      "https://rukminim1.flixcart.com/image/329/395/k6nxrbk0/trouser/4/y/p/28-kctr-5555-nb-fubar-original-imafp2j6cphgy9xf.jpeg?q=50\n",
      "https://rukminim1.flixcart.com/image/329/395/k70spzk0/trouser/u/6/g/34-kctr-bb5555-nb-fubar-original-imafpcyfwyz4vtxj.jpeg?q=50\n",
      "https://rukminim1.flixcart.com/image/329/395/k55n0y80/trouser/n/v/b/34-pjtfjssfy28775-peter-england-original-imafndx3kd3gs2t6.jpeg?q=50\n",
      "https://rukminim1.flixcart.com/image/329/395/k5y7tzk0/track-pant/n/p/w/m-pant4016-crease-clips-original-imafz27hzjpsf4yj.jpeg?q=50\n",
      "https://rukminim1.flixcart.com/image/329/395/k70spzk0/trouser/h/k/u/30-hltr003959-highlander-original-imafpchqmyqyxf8h.jpeg?q=50\n",
      "https://rukminim1.flixcart.com/image/329/395/k5msb680/trouser/b/b/f/l-pant4016-olive-crease-clips-original-imafz27h3vzpx88g.jpeg?q=50\n",
      "https://rukminim1.flixcart.com/image/329/395/k687wy80/trouser/w/x/z/28-pctfcsspi07520-peter-england-original-imafzpzwvhgcyzek.jpeg?q=50\n",
      "https://rukminim1.flixcart.com/image/329/395/jwaztzk0/trouser/8/j/y/34-t-129-trouser-baleno-coffi-aa-ad-av-original-imafgm8qarxbgnjy.jpeg?q=50\n",
      "https://rukminim1.flixcart.com/image/329/395/k70spzk0/trouser/g/k/b/30-hltr003885-highlander-original-imafpchrxfmvzxrt.jpeg?q=50\n",
      "https://rukminim1.flixcart.com/image/329/395/kb6tyfk0/trouser/9/6/2/38-setof3-baleno-blak-cream-sgrey-aa-ad-av-original-imafshnmjgzaq3tm.jpeg?q=50\n",
      "https://rukminim1.flixcart.com/image/329/395/k70spzk0/trouser/q/b/n/30-hltr003941-highlander-original-imafpcht6fpfzbgw.jpeg?q=50\n",
      "https://rukminim1.flixcart.com/image/329/395/k70spzk0/trouser/a/r/d/30-hltr003913-highlander-original-imafpchtmzqbdumj.jpeg?q=50\n",
      "https://rukminim1.flixcart.com/image/329/395/jxapua80/trouser/f/q/q/32-itmtr00044-indian-terrain-original-imafhsjnf4nzfqzx.jpeg?q=50\n",
      "https://rukminim1.flixcart.com/image/329/395/k70spzk0/trouser/e/r/p/30-hltr003917-highlander-original-imafpchqzbuvcgay.jpeg?q=50\n",
      "https://rukminim1.flixcart.com/image/329/395/k70spzk0/trouser/w/a/h/30-hltr003966-highlander-original-imafpchqendfwsse.jpeg?q=50\n",
      "https://rukminim1.flixcart.com/image/329/395/k5pn6vk0/trouser/m/r/z/32-rmts03559-b6-raymond-original-imafzax7mtjr8xdj.jpeg?q=50\n",
      "https://rukminim1.flixcart.com/image/329/395/k4irzbk0/trouser/g/k/b/36-pctfcssps62342-peter-england-original-imafnetvkxuhqfmn.jpeg?q=50\n",
      "https://rukminim1.flixcart.com/image/329/395/k70spzk0/trouser/b/w/d/30-hltr004080-highlander-original-imafpchrysetnh7u.jpeg?q=50\n",
      "https://rukminim1.flixcart.com/image/329/395/k7f34i80/trouser/k/t/5/28-vrocp-gy-vrojass-original-imafpz4grpxubdwa.jpeg?q=50\n",
      "https://rukminim1.flixcart.com/image/329/395/k70spzk0/trouser/r/s/j/30-hltr003876-highlander-original-imafpchrtkjkqsgn.jpeg?q=50\n",
      "https://rukminim1.flixcart.com/image/329/395/jljri4w0/trouser/j/3/5/34-chino-black-urbano-fashion-original-imaexwbzn8qhkvcw.jpeg?q=50\n",
      "https://rukminim1.flixcart.com/image/329/395/kazor680/trouser/3/b/f/30-packof2-baleno-sgrey-nevy-aa-ad-av-original-imafsgffzuz8verm.jpeg?q=50\n",
      "https://rukminim1.flixcart.com/image/329/395/k05ljm80/trouser/a/z/v/32-84394-0001-levi-s-original-imafkybefzu2qp3a.jpeg?q=50\n"
     ]
    }
   ],
   "source": [
    "url=[]\n",
    "for image in images:\n",
    "    source=image.get_attribute('src')\n",
    "    url.append(source)\n",
    "    print(source)"
   ]
  },
  {
   "cell_type": "code",
   "execution_count": 6,
   "metadata": {},
   "outputs": [],
   "source": [
    "import shutil\n",
    "import requests"
   ]
  },
  {
   "cell_type": "code",
   "execution_count": 7,
   "metadata": {},
   "outputs": [
    {
     "name": "stdout",
     "output_type": "stream",
     "text": [
      "downloding image 1 of 40 from page 1\n",
      "downloding image 2 of 40 from page 1\n",
      "downloding image 3 of 40 from page 1\n",
      "downloding image 4 of 40 from page 1\n",
      "downloding image 5 of 40 from page 1\n",
      "downloding image 6 of 40 from page 1\n",
      "downloding image 7 of 40 from page 1\n",
      "downloding image 8 of 40 from page 1\n",
      "downloding image 9 of 40 from page 1\n",
      "downloding image 10 of 40 from page 1\n",
      "downloding image 11 of 40 from page 1\n",
      "downloding image 12 of 40 from page 1\n",
      "downloding image 13 of 40 from page 1\n",
      "downloding image 14 of 40 from page 1\n",
      "downloding image 15 of 40 from page 1\n",
      "downloding image 16 of 40 from page 1\n",
      "downloding image 17 of 40 from page 1\n",
      "downloding image 18 of 40 from page 1\n",
      "downloding image 19 of 40 from page 1\n",
      "downloding image 20 of 40 from page 1\n",
      "downloding image 21 of 40 from page 1\n",
      "downloding image 22 of 40 from page 1\n",
      "downloding image 23 of 40 from page 1\n",
      "downloding image 24 of 40 from page 1\n",
      "downloding image 25 of 40 from page 1\n",
      "downloding image 26 of 40 from page 1\n",
      "downloding image 27 of 40 from page 1\n",
      "downloding image 28 of 40 from page 1\n",
      "downloding image 29 of 40 from page 1\n",
      "downloding image 30 of 40 from page 1\n",
      "downloding image 31 of 40 from page 1\n",
      "downloding image 32 of 40 from page 1\n",
      "downloding image 33 of 40 from page 1\n",
      "downloding image 34 of 40 from page 1\n",
      "downloding image 35 of 40 from page 1\n",
      "downloding image 36 of 40 from page 1\n",
      "downloding image 37 of 40 from page 1\n",
      "downloding image 38 of 40 from page 1\n",
      "downloding image 39 of 40 from page 1\n",
      "downloding image 40 of 40 from page 1\n"
     ]
    }
   ],
   "source": [
    "page=1\n",
    "for index, link in enumerate(url):\n",
    "    print('downloding image {} of {} from page 1'.format(index+1,len(url)))\n",
    "    response=requests.get(link)\n",
    "    with open(r'P:\\jay\\fliprobo\\web scrap\\trousers\\img {}{}.jpeg'.format(index+1,page),'wb') as file:\n",
    "              file.write(response.content)"
   ]
  },
  {
   "cell_type": "code",
   "execution_count": 8,
   "metadata": {},
   "outputs": [],
   "source": [
    "page2=driver.find_element_by_xpath(\"//a[@class='_3fVaIS']\").click()"
   ]
  },
  {
   "cell_type": "code",
   "execution_count": 9,
   "metadata": {},
   "outputs": [
    {
     "data": {
      "text/plain": [
       "40"
      ]
     },
     "execution_count": 9,
     "metadata": {},
     "output_type": "execute_result"
    }
   ],
   "source": [
    "images2=driver.find_elements_by_xpath(\"//img[@class='_3togXc']\")\n",
    "len(images2)"
   ]
  },
  {
   "cell_type": "code",
   "execution_count": 10,
   "metadata": {},
   "outputs": [
    {
     "name": "stdout",
     "output_type": "stream",
     "text": [
      "https://rukminim1.flixcart.com/image/329/395/k70spzk0/trouser/m/d/j/30-hltr003869-highlander-original-imafpchrrmpavz7d.jpeg?q=50\n",
      "https://rukminim1.flixcart.com/image/329/395/k70spzk0/trouser/a/8/4/30-hltr003914-highlander-original-imafpchqwdkpgtyr.jpeg?q=50\n",
      "https://rukminim1.flixcart.com/image/329/395/k70spzk0/trouser/r/s/j/30-hltr003876-highlander-original-imafpchrtkjkqsgn.jpeg?q=50\n",
      "https://rukminim1.flixcart.com/image/329/395/k73nlow0/trouser/u/y/u/32-84399-0000-levi-s-original-imafpehgkyemhuf6.jpeg?q=50\n",
      "https://rukminim1.flixcart.com/image/329/395/jljri4w0/trouser/j/3/5/34-chino-black-urbano-fashion-original-imaexwbzn8qhkvcw.jpeg?q=50\n",
      "https://rukminim1.flixcart.com/image/329/395/k5msb680/trouser/b/b/f/l-pant4016-olive-crease-clips-original-imafz27h3vzpx88g.jpeg?q=50\n",
      "https://rukminim1.flixcart.com/image/329/395/jz4g3gw0/trouser/d/z/7/38-pctfcssp989961-peter-england-original-imafj7gvtns7zvd8.jpeg?q=50\n",
      "https://rukminim1.flixcart.com/image/329/395/k70spzk0/trouser/a/n/t/30-hltr004082-highlander-original-imafpchr9cvjh4ta.jpeg?q=50\n",
      "https://rukminim1.flixcart.com/image/329/395/jt4olu80/trouser/z/v/g/30-jogger-black-plus91-original-imafek26fevusyda.jpeg?q=50\n",
      "https://rukminim1.flixcart.com/image/329/395/jz1l7rk0/trouser/n/z/n/32-itmtr00253stone-indian-terrain-original-imafj5az35zdfzdb.jpeg?q=50\n",
      "https://rukminim1.flixcart.com/image/329/395/jrz8u4w0/trouser/e/g/c/36-bmw-cotton-trs-ben-martin-original-imafdnrptfmmxwqv.jpeg?q=50\n",
      "https://rukminim1.flixcart.com/image/329/395/k70spzk0/trouser/z/p/b/30-hltr004033-highlander-original-imafpchraqskh6yu.jpeg?q=50\n",
      "https://rukminim1.flixcart.com/image/329/395/jt4olu80/trouser/4/c/4/32-jogger-navy-blue-plus91-original-imafek2fzqt6fhf5.jpeg?q=50\n",
      "https://rukminim1.flixcart.com/image/329/395/k687wy80/trouser/2/r/8/32-putfusspx46305-peter-england-university-original-imafzq27sxhmcfmh.jpeg?q=50\n",
      "https://rukminim1.flixcart.com/image/329/395/kb6tyfk0/trouser/q/9/f/32-putfussp440837-peter-england-university-original-imafsgqjegem54xz.jpeg?q=50\n",
      "https://rukminim1.flixcart.com/image/329/395/k70spzk0/trouser/n/w/w/30-hltr003937-highlander-original-imafpchuwcsxhg8f.jpeg?q=50\n",
      "https://rukminim1.flixcart.com/image/329/395/jy7kyvk0/trouser/q/h/9/32-kctr-5555-ltbr-fubar-original-imafghyfa6yszgpv.jpeg?q=50\n",
      "https://rukminim1.flixcart.com/image/329/395/jmmce4w0/trouser/y/r/v/30-formalblue-brown-classio-original-imaf8uwyxtwa6g4c.jpeg?q=50\n",
      "https://rukminim1.flixcart.com/image/329/395/k70spzk0/trouser/g/y/4/30-hltr003847-highlander-original-imafpchty4y6pndz.jpeg?q=50\n",
      "https://rukminim1.flixcart.com/image/329/395/k2xmd8w0/trouser/8/a/3/42-astfwsrft64200-allen-solly-original-imafm5jhxae7j9pz.jpeg?q=50\n",
      "https://rukminim1.flixcart.com/image/329/395/k70spzk0/trouser/r/u/j/28-kctr-bb5555-bk-fubar-original-imafpcyfpewdhxth.jpeg?q=50\n",
      "https://rukminim1.flixcart.com/image/329/395/k70spzk0/trouser/t/h/z/30-hltr004035-highlander-original-imafpchrtvsafvm5.jpeg?q=50\n",
      "https://rukminim1.flixcart.com/image/329/395/jrz8u4w0/trouser/6/y/b/34-bmw-cotton-trs-ben-martin-original-imafdnrp8cxmkhty.jpeg?q=50\n",
      "https://rukminim1.flixcart.com/image/329/395/k0wqwsw0/trouser/s/z/g/32-84395-0000-levi-s-original-imafkhgfxghzznv3.jpeg?q=50\n",
      "https://rukminim1.flixcart.com/image/329/395/jwaztzk0/trouser/t/w/c/40-t-127-trouser-baleno-cream-aa-ad-av-original-imafhyt5ane2grs5.jpeg?q=50\n",
      "https://rukminim1.flixcart.com/image/329/395/k3t21zk0/trouser/5/h/h/36-kctr-5555-cho-fubar-original-imafmuzapfa3zyhx.jpeg?q=50\n",
      "https://rukminim1.flixcart.com/image/329/395/k76ihe80/trouser/s/k/y/36-t340-tr-ss-lycra-royal-blue-aa-ad-av-original-imafpggjgxdfpnry.jpeg?q=50\n",
      "https://rukminim1.flixcart.com/image/329/395/k1nw9zk0/trouser/d/a/9/30-kctr-5555-grey-fubar-original-imafh6jhqy2pdhxr.jpeg?q=50\n",
      "https://rukminim1.flixcart.com/image/329/395/j2hw58w0/trouser/c/j/v/30-chino-ben-martin-original-imaetu4mhmvgaery.jpeg?q=50\n",
      "https://rukminim1.flixcart.com/image/329/395/kcjexe80/trouser/2/r/8/32-pmty05694-b7-park-avenue-original-imaftng4qafujkju.jpeg?q=50\n",
      "https://rukminim1.flixcart.com/image/329/395/k7gikcw0/trouser/z/g/b/38-new-combo-classio-fashion-original-imafpzz8yjgxckfg.jpeg?q=50\n",
      "https://rukminim1.flixcart.com/image/329/395/j2hw58w0/trouser/6/b/y/30-chino-ben-martin-original-imaetu4mghr7ybp6.jpeg?q=50\n",
      "https://rukminim1.flixcart.com/image/329/395/k70spzk0/trouser/b/c/t/30-hltr003883-highlander-original-imafpchrtjsk6hqs.jpeg?q=50\n",
      "https://rukminim1.flixcart.com/image/329/395/kb6tyfk0/trouser/h/j/n/32-putfusspo48518-peter-england-university-original-imafsk52vg98nnph.jpeg?q=50\n",
      "https://rukminim1.flixcart.com/image/329/395/k70spzk0/trouser/v/g/j/30-hltr004076-highlander-original-imafpchrybuxefcv.jpeg?q=50\n",
      "https://rukminim1.flixcart.com/image/329/395/jxqfonk0/trouser/3/t/q/38-bmw-cotton-trs-ben-martin-original-imafg4vhtcgztehc.jpeg?q=50\n",
      "https://rukminim1.flixcart.com/image/329/395/k70spzk0/trouser/t/k/j/30-hltr003944-highlander-original-imafpchuh2htysg6.jpeg?q=50\n",
      "https://rukminim1.flixcart.com/image/329/395/k0cqqvk0/trouser/g/k/g/38-pctfcssp230245-peter-england-original-imafk5zqnuhbumsh.jpeg?q=50\n",
      "https://rukminim1.flixcart.com/image/329/395/k05ljm80/trouser/a/z/v/32-84394-0001-levi-s-original-imafkybefzu2qp3a.jpeg?q=50\n",
      "https://rukminim1.flixcart.com/image/329/395/k6b2snk0/trouser/n/2/k/32-putfusspf56274-peter-england-university-original-imafzskena7h9hxh.jpeg?q=50\n"
     ]
    }
   ],
   "source": [
    "url2=[]\n",
    "for image in images2:\n",
    "    source2=image.get_attribute('src')\n",
    "    url2.append(source2)\n",
    "    print(source2)"
   ]
  },
  {
   "cell_type": "code",
   "execution_count": 11,
   "metadata": {},
   "outputs": [
    {
     "name": "stdout",
     "output_type": "stream",
     "text": [
      "downling image 1 of 40 from page 2\n",
      "downling image 2 of 40 from page 2\n",
      "downling image 3 of 40 from page 2\n",
      "downling image 4 of 40 from page 2\n",
      "downling image 5 of 40 from page 2\n",
      "downling image 6 of 40 from page 2\n",
      "downling image 7 of 40 from page 2\n",
      "downling image 8 of 40 from page 2\n",
      "downling image 9 of 40 from page 2\n",
      "downling image 10 of 40 from page 2\n",
      "downling image 11 of 40 from page 2\n",
      "downling image 12 of 40 from page 2\n",
      "downling image 13 of 40 from page 2\n",
      "downling image 14 of 40 from page 2\n",
      "downling image 15 of 40 from page 2\n",
      "downling image 16 of 40 from page 2\n",
      "downling image 17 of 40 from page 2\n",
      "downling image 18 of 40 from page 2\n",
      "downling image 19 of 40 from page 2\n",
      "downling image 20 of 40 from page 2\n",
      "downling image 21 of 40 from page 2\n",
      "downling image 22 of 40 from page 2\n",
      "downling image 23 of 40 from page 2\n",
      "downling image 24 of 40 from page 2\n",
      "downling image 25 of 40 from page 2\n",
      "downling image 26 of 40 from page 2\n",
      "downling image 27 of 40 from page 2\n",
      "downling image 28 of 40 from page 2\n",
      "downling image 29 of 40 from page 2\n",
      "downling image 30 of 40 from page 2\n",
      "downling image 31 of 40 from page 2\n",
      "downling image 32 of 40 from page 2\n",
      "downling image 33 of 40 from page 2\n",
      "downling image 34 of 40 from page 2\n",
      "downling image 35 of 40 from page 2\n",
      "downling image 36 of 40 from page 2\n",
      "downling image 37 of 40 from page 2\n",
      "downling image 38 of 40 from page 2\n",
      "downling image 39 of 40 from page 2\n",
      "downling image 40 of 40 from page 2\n"
     ]
    }
   ],
   "source": [
    "page=2\n",
    "for index, link2 in enumerate(url2):\n",
    "    print('downling image {} of {} from page 2'.format(index+1,len(url2)))\n",
    "    response2=requests.get(link2)\n",
    "    with open(r'P:\\jay\\fliprobo\\web scrap\\trousers\\img {}{}.jpeg'.format(index+1,page),'wb')as file:\n",
    "        file.write(response2.content)"
   ]
  },
  {
   "cell_type": "code",
   "execution_count": 12,
   "metadata": {},
   "outputs": [],
   "source": [
    "page3= driver.find_element_by_xpath(\"//a[@class='_3fVaIS'][2]\").click()"
   ]
  },
  {
   "cell_type": "code",
   "execution_count": 13,
   "metadata": {},
   "outputs": [
    {
     "data": {
      "text/plain": [
       "20"
      ]
     },
     "execution_count": 13,
     "metadata": {},
     "output_type": "execute_result"
    }
   ],
   "source": [
    "image3=driver.find_elements_by_xpath(\"//img[@class='_3togXc']\")\n",
    "image3=image3[0:20]\n",
    "len(image3)"
   ]
  },
  {
   "cell_type": "code",
   "execution_count": 14,
   "metadata": {},
   "outputs": [
    {
     "name": "stdout",
     "output_type": "stream",
     "text": [
      "https://rukminim1.flixcart.com/image/329/395/k0cqqvk0/trouser/g/k/g/38-pctfcssp230245-peter-england-original-imafk5zqnuhbumsh.jpeg?q=50\n",
      "https://rukminim1.flixcart.com/image/329/395/k05ljm80/trouser/a/z/v/32-84394-0001-levi-s-original-imafkybefzu2qp3a.jpeg?q=50\n",
      "https://rukminim1.flixcart.com/image/329/395/k70spzk0/trouser/v/j/p/30-hltr003969-highlander-original-imafpchqvzrtffhb.jpeg?q=50\n",
      "https://rukminim1.flixcart.com/image/329/395/jkh6m4w0/trouser/n/j/h/32-itmtr00044dark-khaki-indian-terrain-original-imaf7twskyyh9gvg.jpeg?q=50\n",
      "https://rukminim1.flixcart.com/image/329/395/kazor680/trouser/n/q/6/32-packof2-baleno-cream-sgrey-aa-ad-av-original-imafsfw24bjgjgj4.jpeg?q=50\n",
      "https://rukminim1.flixcart.com/image/329/395/k73nlow0/trouser/u/j/b/32-84408-0001-levi-s-original-imafpehgurhkcn7m.jpeg?q=50\n",
      "https://rukminim1.flixcart.com/image/329/395/jfvfjbk0/trouser/y/x/t/28-packof-3-greendart-blue-black-grey-aa-ad-av-original-imaf48udg67ffnzm.jpeg?q=50\n",
      "https://rukminim1.flixcart.com/image/329/395/k70spzk0/trouser/s/g/p/30-hltr004078-highlander-original-imafpchrj2t6pyz8.jpeg?q=50\n",
      "https://rukminim1.flixcart.com/image/329/395/k70spzk0/trouser/v/g/z/30-hltr003942-highlander-original-imafpchtkggqrndp.jpeg?q=50\n",
      "https://rukminim1.flixcart.com/image/329/395/k4k7f680/trouser/m/x/s/32-xmtd02890-g8-parx-original-imafnepvhvuxhqry.jpeg?q=50\n",
      "https://rukminim1.flixcart.com/image/329/395/k70spzk0/trouser/5/e/s/30-hltr004077-highlander-original-imafpchrqyc8uq4p.jpeg?q=50\n",
      "https://rukminim1.flixcart.com/image/329/395/k1b1bbk0/trouser/a/g/5/28-pctfcsspn02685-peter-england-original-imafkwyznv355wg4.jpeg?q=50\n",
      "https://rukminim1.flixcart.com/image/329/395/jst930w0/trouser/c/d/f/34-sktr-610-ltbr-fubar-original-imafebf2uuy8zpzh.jpeg?q=50\n",
      "https://rukminim1.flixcart.com/image/329/395/k5wse4w0/trouser/y/e/c/28-xmtd02861-b8-parx-original-imafzhqhy8hwc8eu.jpeg?q=50\n",
      "https://rukminim1.flixcart.com/image/329/395/k6s82vk0/trouser/4/z/k/32-putfusspw77086-peter-england-university-original-imafpyk2enuevmzh.jpeg?q=50\n",
      "https://rukminim1.flixcart.com/image/329/395/jxnksy80/trouser/u/d/w/38-combo-trouser-baleno-black-and-cream-bb-ad-av-original-imafgy9h8wabdg6j.jpeg?q=50\n",
      "https://rukminim1.flixcart.com/image/329/395/jxf05u80/trouser/3/k/w/40-combo-trouser-baleno-blackand-coffi-aa-ad-av-original-imafhuqytz4bfyzf.jpeg?q=50\n",
      "https://rukminim1.flixcart.com/image/329/395/kb1470w0/trouser/g/p/z/44-t352-trouser-baleno-nevy-aa-ad-av-original-imafsh3qewdxvy69.jpeg?q=50\n",
      "https://rukminim1.flixcart.com/image/329/395/kazor680/trouser/w/j/d/36-packof2-baleno-white-cream-aa-ad-av-original-imafsg6d6pf4g58d.jpeg?q=50\n",
      "https://rukminim1.flixcart.com/image/329/395/k3erngw0/trouser/r/n/x/34-pmtx06082-b7-park-avenue-original-imafme4fgys554uy.jpeg?q=50\n"
     ]
    }
   ],
   "source": [
    "url3=[]\n",
    "for image in image3:\n",
    "    source3=image.get_attribute('src')\n",
    "    url3.append(source3)\n",
    "    print(source3)"
   ]
  },
  {
   "cell_type": "code",
   "execution_count": 15,
   "metadata": {},
   "outputs": [
    {
     "name": "stdout",
     "output_type": "stream",
     "text": [
      "downloading image 1 of 20 from page 3\n",
      "downloading image 2 of 20 from page 3\n",
      "downloading image 3 of 20 from page 3\n",
      "downloading image 4 of 20 from page 3\n",
      "downloading image 5 of 20 from page 3\n",
      "downloading image 6 of 20 from page 3\n",
      "downloading image 7 of 20 from page 3\n",
      "downloading image 8 of 20 from page 3\n",
      "downloading image 9 of 20 from page 3\n",
      "downloading image 10 of 20 from page 3\n",
      "downloading image 11 of 20 from page 3\n",
      "downloading image 12 of 20 from page 3\n",
      "downloading image 13 of 20 from page 3\n",
      "downloading image 14 of 20 from page 3\n",
      "downloading image 15 of 20 from page 3\n",
      "downloading image 16 of 20 from page 3\n",
      "downloading image 17 of 20 from page 3\n",
      "downloading image 18 of 20 from page 3\n",
      "downloading image 19 of 20 from page 3\n",
      "downloading image 20 of 20 from page 3\n"
     ]
    }
   ],
   "source": [
    "page=3\n",
    "for index, link3 in enumerate(url3):\n",
    "    print('downloading image {} of {} from page 3'.format(index+1,len(url3)))\n",
    "    response3=requests.get(link3)\n",
    "    with open(r'P:\\jay\\fliprobo\\web scrap\\trousers\\img {}{}.jpeg'.format(index+1,page),'wb')as file:\n",
    "        file.write(response3.content)"
   ]
  },
  {
   "cell_type": "code",
   "execution_count": null,
   "metadata": {},
   "outputs": [],
   "source": []
  }
 ],
 "metadata": {
  "kernelspec": {
   "display_name": "Python 3",
   "language": "python",
   "name": "python3"
  },
  "language_info": {
   "codemirror_mode": {
    "name": "ipython",
    "version": 3
   },
   "file_extension": ".py",
   "mimetype": "text/x-python",
   "name": "python",
   "nbconvert_exporter": "python",
   "pygments_lexer": "ipython3",
   "version": "3.7.4"
  }
 },
 "nbformat": 4,
 "nbformat_minor": 2
}
